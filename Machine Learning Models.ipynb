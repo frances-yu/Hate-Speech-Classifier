{
 "cells": [
  {
   "cell_type": "markdown",
   "metadata": {},
   "source": [
    "# Classification Method"
   ]
  },
  {
   "cell_type": "markdown",
   "metadata": {},
   "source": [
    "For each of the 7 NLP methods:\n",
    "\n",
    "    1) loadNLPVectors\n",
    "    \n",
    "    2) genLabels\n",
    "    \n",
    "    3) train_test_split: create X_train, X_test, y_train, y_test\n",
    "\n",
    "Metrics:\n",
    "\n",
    "    1) accuracy\n",
    "    \n",
    "    2) F-Score (precision, recall?)\n",
    "    \n",
    "    3) Area under ROC\n",
    "\n",
    "For each of the Machine Learning Algorithms for each of the NLP methods:\n",
    "\n",
    "    1) Import classifier\n",
    "    \n",
    "    2) cross_val_score: classifier, X_train, y_train, scoring (multiple metrics), cv = 10, n_jobs = -1\n",
    "    \n",
    "    3) average cross_val_score\n",
    "    \n",
    "    4) Train classifier on entirety of X_train, y_train\n",
    "    \n",
    "    5) Evaluate classifier on X_test, y_test\n",
    "    \n",
    "    6) Compare test metric vs cross_val_score metric\n",
    "    \n",
    "    7) Save trained model\n",
    "    \n",
    "    8) Generate Confusion Matricies and other visualizations if necessary"
   ]
  },
  {
   "cell_type": "code",
   "execution_count": 1,
   "metadata": {},
   "outputs": [],
   "source": [
    "import numpy as np\n",
    "import pandas as pd\n",
    "import os"
   ]
  },
  {
   "cell_type": "code",
   "execution_count": 2,
   "metadata": {},
   "outputs": [],
   "source": [
    "def loadCSV(filename):\n",
    "    file = filename\n",
    "    if '.csv' not in filename:\n",
    "        file += '.csv'\n",
    "    data = pd.read_csv(file, encoding = 'ISO-8859-1')\n",
    "    return data"
   ]
  },
  {
   "cell_type": "code",
   "execution_count": 3,
   "metadata": {},
   "outputs": [],
   "source": [
    "def loadNLPVectors(filename):\n",
    "    file = 'nlp_data/' + filename + '.npy'\n",
    "    return np.load(file)"
   ]
  },
  {
   "cell_type": "code",
   "execution_count": 4,
   "metadata": {},
   "outputs": [],
   "source": [
    "def genLabels():\n",
    "    labels_array = []\n",
    "    for row in range(0, len(data[\"tweet_class\"])):\n",
    "        labels_array.append(data[\"tweet_class\"][row])\n",
    "    labels = np.asarray(labels_array)\n",
    "    return labels"
   ]
  },
  {
   "cell_type": "code",
   "execution_count": 5,
   "metadata": {},
   "outputs": [],
   "source": [
    "csvFile = \"binary_classification\"\n",
    "data = loadCSV(csvFile)"
   ]
  },
  {
   "cell_type": "code",
   "execution_count": 6,
   "metadata": {},
   "outputs": [],
   "source": [
    "unigram_array = \"feature_array_unigram.npy\"\n",
    "bigram_array = \"feature_array_bigram.npy\"\n",
    "tfidf_array = \"feature_array_tfidf.npy\"\n",
    "wordvec_array = \"feature_array_word2vec.npy\"\n",
    "unigram_reduced = \"reduced_unigram.npy\"\n",
    "bigram_reduced = \"reduced_bigram.npy\"\n",
    "tfidf_reduced = \"reduced_tfidf.npy\""
   ]
  },
  {
   "cell_type": "code",
   "execution_count": 6,
   "metadata": {},
   "outputs": [],
   "source": [
    "word2vec = loadNLPVectors('feature_array_word2vec')"
   ]
  },
  {
   "cell_type": "code",
   "execution_count": 7,
   "metadata": {},
   "outputs": [],
   "source": [
    "word2vec_labels = genLabels()"
   ]
  },
  {
   "cell_type": "code",
   "execution_count": 8,
   "metadata": {},
   "outputs": [],
   "source": [
    "from sklearn.model_selection import train_test_split, cross_val_score\n",
    "X_train, X_test, y_train, y_test = train_test_split(word2vec, \n",
    "                                                    word2vec_labels, \n",
    "                                                    test_size = 0.2, \n",
    "                                                    random_state = 42, \n",
    "                                                    shuffle = True)"
   ]
  },
  {
   "cell_type": "code",
   "execution_count": 9,
   "metadata": {},
   "outputs": [],
   "source": [
    "from sklearn.svm import SVC\n",
    "svm_clf = SVC(probability = True, random_state = 42)"
   ]
  },
  {
   "cell_type": "code",
   "execution_count": 10,
   "metadata": {},
   "outputs": [],
   "source": [
    "cv_results = cross_val_score(svm_clf, X_train, y_train, scoring = \"accuracy\", cv = 10, n_jobs = -1)"
   ]
  },
  {
   "cell_type": "code",
   "execution_count": 11,
   "metadata": {},
   "outputs": [
    {
     "data": {
      "text/plain": [
       "array([0.51151631, 0.51151631, 0.5125    , 0.5125    , 0.5125    ,\n",
       "       0.5125    , 0.5125    , 0.5125    , 0.5125    , 0.5125    ])"
      ]
     },
     "execution_count": 11,
     "metadata": {},
     "output_type": "execute_result"
    }
   ],
   "source": [
    "cv_results"
   ]
  },
  {
   "cell_type": "code",
   "execution_count": 12,
   "metadata": {},
   "outputs": [
    {
     "data": {
      "text/plain": [
       "0.5123032629558542"
      ]
     },
     "execution_count": 12,
     "metadata": {},
     "output_type": "execute_result"
    }
   ],
   "source": [
    "cv_results.mean()"
   ]
  },
  {
   "cell_type": "code",
   "execution_count": 13,
   "metadata": {},
   "outputs": [],
   "source": [
    "svm_model = svm_clf.fit(X_train, y_train)"
   ]
  },
  {
   "cell_type": "code",
   "execution_count": 17,
   "metadata": {},
   "outputs": [
    {
     "data": {
      "text/plain": [
       "array([[0.51455095, 0.328629  , 0.15682006],\n",
       "       [0.5141496 , 0.32941481, 0.15643558],\n",
       "       [0.51399339, 0.32948167, 0.15652493],\n",
       "       ...,\n",
       "       [0.51460124, 0.32923166, 0.1561671 ],\n",
       "       [0.51427649, 0.3295108 , 0.15621271],\n",
       "       [0.51421424, 0.32926606, 0.15651969]])"
      ]
     },
     "execution_count": 17,
     "metadata": {},
     "output_type": "execute_result"
    }
   ],
   "source": [
    "svm_model.predict_proba(X_test)"
   ]
  },
  {
   "cell_type": "code",
   "execution_count": null,
   "metadata": {},
   "outputs": [],
   "source": []
  }
 ],
 "metadata": {
  "kernelspec": {
   "display_name": "Python 3",
   "language": "python",
   "name": "python3"
  },
  "language_info": {
   "codemirror_mode": {
    "name": "ipython",
    "version": 3
   },
   "file_extension": ".py",
   "mimetype": "text/x-python",
   "name": "python",
   "nbconvert_exporter": "python",
   "pygments_lexer": "ipython3",
   "version": "3.6.0"
  }
 },
 "nbformat": 4,
 "nbformat_minor": 2
}
