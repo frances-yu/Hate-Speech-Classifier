{
 "cells": [
  {
   "cell_type": "code",
   "execution_count": 1,
   "metadata": {},
   "outputs": [],
   "source": [
    "import numpy as np\n",
    "import pandas as pd\n",
    "import time\n",
    "import os"
   ]
  },
  {
   "cell_type": "code",
   "execution_count": 2,
   "metadata": {},
   "outputs": [],
   "source": [
    "def loadCSV(filename):\n",
    "    file = filename\n",
    "    if '.csv' not in filename:\n",
    "        file += '.csv'\n",
    "    data = pd.read_csv(file, encoding = 'ISO-8859-1')\n",
    "    return data"
   ]
  },
  {
   "cell_type": "code",
   "execution_count": 3,
   "metadata": {},
   "outputs": [],
   "source": [
    "def loadNLPVectors(filename):\n",
    "    file = 'nlp_data/' + filename + '.npy'\n",
    "    return np.load(file)"
   ]
  },
  {
   "cell_type": "code",
   "execution_count": 4,
   "metadata": {},
   "outputs": [],
   "source": [
    "def loadLabels():\n",
    "    return loadNLPVectors(\"labels\")"
   ]
  },
  {
   "cell_type": "code",
   "execution_count": 5,
   "metadata": {},
   "outputs": [],
   "source": [
    "csvFile = \"binary_classification\"\n",
    "data = loadCSV(csvFile)"
   ]
  },
  {
   "cell_type": "code",
   "execution_count": 6,
   "metadata": {},
   "outputs": [],
   "source": [
    "unigram_array = \"feature_array_unigram\"\n",
    "bigram_array = \"feature_array_bigram\"\n",
    "tfidf_array = \"feature_array_tfidf\"\n",
    "wordvec_array = \"feature_array_word2vec\"\n",
    "unigram_reduced = \"reduced_unigram\"\n",
    "bigram_reduced = \"reduced_bigram\"\n",
    "tfidf_reduced = \"reduced_tfidf\""
   ]
  },
  {
   "cell_type": "markdown",
   "metadata": {},
   "source": [
    "# Create Machine Learning Classifiers"
   ]
  },
  {
   "cell_type": "code",
   "execution_count": 8,
   "metadata": {},
   "outputs": [],
   "source": [
    "from sklearn.model_selection import train_test_split\n",
    "from sklearn.svm import SVC\n",
    "from sklearn.ensemble import RandomForestClassifier\n",
    "from sklearn.linear_model import LogisticRegression\n",
    "from sklearn.linear_model import LinearRegression\n",
    "from sklearn.naive_bayes import MultinomialNB"
   ]
  },
  {
   "cell_type": "code",
   "execution_count": 9,
   "metadata": {},
   "outputs": [],
   "source": [
    "def genClassifiers(neg = False, filter = []):\n",
    "    svm_clf = SVC(probability = True)\n",
    "    rf_clf = RandomForestClassifier()\n",
    "    log_clf = LogisticRegression()\n",
    "    lin_clf = LinearRegression()\n",
    "    \n",
    "    classifiers = [rf_clf, log_clf, lin_clf]\n",
    "    names = ['Random Forest', 'Logistic Regression', 'Linear Regression']\n",
    "    if not neg:\n",
    "        classifiers.append(MultinomialNB())\n",
    "        names.append('Naive Bayes')\n",
    "        \n",
    "    classifiers.append(svm_clf)\n",
    "    names.append('SVM')\n",
    "    \n",
    "    filtered_classifiers = []\n",
    "    filtered_names = []\n",
    "    for i in range(0, len(classifiers)):\n",
    "        if i not in filter:\n",
    "            filtered_classifiers.append(classifiers[i])\n",
    "            filtered_names.append(names[i])\n",
    "            \n",
    "    return filtered_classifiers, filtered_names"
   ]
  },
  {
   "cell_type": "code",
   "execution_count": 10,
   "metadata": {},
   "outputs": [],
   "source": [
    "def dataSplit(nlp):\n",
    "    X_train, X_test, y_train, y_test = train_test_split(nlp, \n",
    "                                                        labels, \n",
    "                                                        test_size = 0.2, \n",
    "                                                        random_state = 42, \n",
    "                                                        shuffle = True, \n",
    "                                                        stratify = labels)\n",
    "    return X_train, X_test, y_train, y_test"
   ]
  },
  {
   "cell_type": "code",
   "execution_count": 11,
   "metadata": {},
   "outputs": [],
   "source": [
    "def evaluate(clf_array, clf_names, nlp):\n",
    "    X_train, X_test, y_train, y_test = dataSplit(nlp)\n",
    "    for i in range(0, len(clf_array)):\n",
    "        start = time.time()\n",
    "        clf_array[i].fit(X_train, y_train)\n",
    "        end = time.time() - start\n",
    "        \n",
    "        accuracy = clf_array[i].score(X_test, y_test)\n",
    "        \n",
    "        print(clf_names[i] + ': Done in ' + str(end))\n",
    "        print(clf_names[i] + ' Accuracy: ' + str(accuracy))\n",
    "        print(\" \")\n",
    "    return X_test, y_test"
   ]
  },
  {
   "cell_type": "markdown",
   "metadata": {},
   "source": [
    "# Load NLP Data"
   ]
  },
  {
   "cell_type": "code",
   "execution_count": 12,
   "metadata": {},
   "outputs": [],
   "source": [
    "unigram = loadNLPVectors(unigram_array)"
   ]
  },
  {
   "cell_type": "code",
   "execution_count": 13,
   "metadata": {},
   "outputs": [],
   "source": [
    "bigram = loadNLPVectors(bigram_array)"
   ]
  },
  {
   "cell_type": "code",
   "execution_count": 14,
   "metadata": {},
   "outputs": [],
   "source": [
    "tfidf = loadNLPVectors(tfidf_array)"
   ]
  },
  {
   "cell_type": "code",
   "execution_count": 15,
   "metadata": {},
   "outputs": [],
   "source": [
    "word2vec = loadNLPVectors(wordvec_array)"
   ]
  },
  {
   "cell_type": "code",
   "execution_count": 16,
   "metadata": {},
   "outputs": [],
   "source": [
    "reduced_unigram = loadNLPVectors(unigram_reduced)"
   ]
  },
  {
   "cell_type": "code",
   "execution_count": 17,
   "metadata": {},
   "outputs": [],
   "source": [
    "reduced_bigram = loadNLPVectors(bigram_reduced)"
   ]
  },
  {
   "cell_type": "code",
   "execution_count": 18,
   "metadata": {},
   "outputs": [],
   "source": [
    "reduced_tfidf = loadNLPVectors(tfidf_reduced)"
   ]
  },
  {
   "cell_type": "code",
   "execution_count": 19,
   "metadata": {},
   "outputs": [],
   "source": [
    "labels = loadLabels()"
   ]
  },
  {
   "cell_type": "code",
   "execution_count": 20,
   "metadata": {},
   "outputs": [],
   "source": [
    "import warnings\n",
    "warnings.filterwarnings(action=\"ignore\", module=\"scipy\", message=\"^internal gelsd\")"
   ]
  },
  {
   "cell_type": "markdown",
   "metadata": {},
   "source": [
    "# Reduced_TFIDF Classifiers"
   ]
  },
  {
   "cell_type": "code",
   "execution_count": 21,
   "metadata": {},
   "outputs": [],
   "source": [
    "reduced_tfidf_clf, clf_names = genClassifiers(neg = True)"
   ]
  },
  {
   "cell_type": "code",
   "execution_count": 22,
   "metadata": {},
   "outputs": [
    {
     "name": "stdout",
     "output_type": "stream",
     "text": [
      "Random Forest: Done in 1.3732631206512451\n",
      "Random Forest Accuracy: 0.8665897731641676\n",
      " \n",
      "Logistic Regression: Done in 0.28240203857421875\n",
      "Logistic Regression Accuracy: 0.9015763168012303\n",
      " \n"
     ]
    },
    {
     "name": "stderr",
     "output_type": "stream",
     "text": [
      "/Library/Frameworks/Python.framework/Versions/3.6/lib/python3.6/site-packages/sklearn/linear_model/base.py:509: RuntimeWarning: internal gelsd driver lwork query error, required iwork dimension not returned. This is likely the result of LAPACK bug 0038, fixed in LAPACK 3.2.2 (released July 21, 2010). Falling back to 'gelss' driver.\n",
      "  linalg.lstsq(X, y)\n"
     ]
    },
    {
     "name": "stdout",
     "output_type": "stream",
     "text": [
      "Linear Regression: Done in 0.337540864944458\n",
      "Linear Regression Accuracy: 0.4933942699678997\n",
      " \n",
      "SVM: Done in 181.7028021812439\n",
      "SVM Accuracy: 0.6197616301422529\n",
      " \n"
     ]
    }
   ],
   "source": [
    "x_rtfidf, y_rtfidf = evaluate(reduced_tfidf_clf, clf_names, reduced_tfidf)"
   ]
  },
  {
   "cell_type": "markdown",
   "metadata": {},
   "source": [
    "# Reduced_Unigram Classifiers"
   ]
  },
  {
   "cell_type": "code",
   "execution_count": 23,
   "metadata": {},
   "outputs": [],
   "source": [
    "reduced_unigram_clf, clf_names = genClassifiers(neg = True)"
   ]
  },
  {
   "cell_type": "code",
   "execution_count": 24,
   "metadata": {},
   "outputs": [
    {
     "name": "stdout",
     "output_type": "stream",
     "text": [
      "Random Forest: Done in 1.3829059600830078\n",
      "Random Forest Accuracy: 0.8738946559015763\n",
      " \n",
      "Logistic Regression: Done in 0.4620938301086426\n",
      "Logistic Regression Accuracy: 0.9115724721261054\n",
      " \n",
      "Linear Regression: Done in 0.202254056930542\n",
      "Linear Regression Accuracy: 0.5372764672085395\n",
      " \n",
      "SVM: Done in 105.80853796005249\n",
      "SVM Accuracy: 0.8746635909265668\n",
      " \n"
     ]
    }
   ],
   "source": [
    "x_runi, y_runi = evaluate(reduced_unigram_clf, clf_names, reduced_unigram)"
   ]
  },
  {
   "cell_type": "markdown",
   "metadata": {},
   "source": [
    "# Reduced_Bigram Classifiers"
   ]
  },
  {
   "cell_type": "code",
   "execution_count": 25,
   "metadata": {},
   "outputs": [],
   "source": [
    "reduced_bigram_clf, clf_names = genClassifiers(neg = True)"
   ]
  },
  {
   "cell_type": "code",
   "execution_count": 26,
   "metadata": {},
   "outputs": [
    {
     "name": "stdout",
     "output_type": "stream",
     "text": [
      "Random Forest: Done in 2.2315099239349365\n",
      "Random Forest Accuracy: 0.8489042675893888\n",
      " \n",
      "Logistic Regression: Done in 1.2011420726776123\n",
      "Logistic Regression Accuracy: 0.9142637447135717\n",
      " \n",
      "Linear Regression: Done in 0.9602310657501221\n",
      "Linear Regression Accuracy: 0.5708337151892493\n",
      " \n",
      "SVM: Done in 268.7503807544708\n",
      "SVM Accuracy: 0.8469819300269127\n",
      " \n"
     ]
    }
   ],
   "source": [
    "x_rbig, y_rbig = evaluate(reduced_bigram_clf, clf_names, reduced_bigram)"
   ]
  },
  {
   "cell_type": "markdown",
   "metadata": {},
   "source": [
    "# Word2Vec Classifiers"
   ]
  },
  {
   "cell_type": "code",
   "execution_count": 27,
   "metadata": {},
   "outputs": [],
   "source": [
    "word2vec_clf, clf_names = genClassifiers(neg = True)"
   ]
  },
  {
   "cell_type": "code",
   "execution_count": 28,
   "metadata": {},
   "outputs": [
    {
     "name": "stdout",
     "output_type": "stream",
     "text": [
      "Random Forest: Done in 0.7857472896575928\n",
      "Random Forest Accuracy: 0.5217224144559784\n",
      " \n",
      "Logistic Regression: Done in 0.05181312561035156\n",
      "Logistic Regression Accuracy: 0.512879661668589\n",
      " \n",
      "Linear Regression: Done in 0.020402908325195312\n",
      "Linear Regression Accuracy: -0.005723566339111308\n",
      " \n",
      "SVM: Done in 71.41576504707336\n",
      "SVM Accuracy: 0.512879661668589\n",
      " \n"
     ]
    }
   ],
   "source": [
    "x_vec, y_vec = evaluate(word2vec_clf, clf_names, word2vec)"
   ]
  },
  {
   "cell_type": "markdown",
   "metadata": {},
   "source": [
    "# Raw TFIDF Classifier"
   ]
  },
  {
   "cell_type": "code",
   "execution_count": 29,
   "metadata": {},
   "outputs": [],
   "source": [
    "tfidf_clf, clf_names = genClassifiers(filter = [2, 4])"
   ]
  },
  {
   "cell_type": "code",
   "execution_count": 30,
   "metadata": {},
   "outputs": [
    {
     "name": "stdout",
     "output_type": "stream",
     "text": [
      "Random Forest: Done in 12.994780778884888\n",
      "Random Forest Accuracy: 0.9015763168012303\n",
      " \n",
      "Logistic Regression: Done in 0.23184800148010254\n",
      "Logistic Regression Accuracy: 0.9042675893886967\n",
      " \n",
      "Naive Bayes: Done in 0.5647330284118652\n",
      "Naive Bayes Accuracy: 0.851595540176855\n",
      " \n"
     ]
    }
   ],
   "source": [
    "x_tfidf, y_tfidf = evaluate(tfidf_clf, clf_names, tfidf)"
   ]
  },
  {
   "cell_type": "markdown",
   "metadata": {},
   "source": [
    "# Raw Unigram Classifier"
   ]
  },
  {
   "cell_type": "code",
   "execution_count": 31,
   "metadata": {},
   "outputs": [],
   "source": [
    "unigram_clf, clf_names = genClassifiers(filter = [2, 4])"
   ]
  },
  {
   "cell_type": "code",
   "execution_count": 32,
   "metadata": {},
   "outputs": [
    {
     "name": "stdout",
     "output_type": "stream",
     "text": [
      "Random Forest: Done in 12.31935977935791\n",
      "Random Forest Accuracy: 0.8965782391387928\n",
      " \n",
      "Logistic Regression: Done in 1.5281178951263428\n",
      "Logistic Regression Accuracy: 0.9154171472510573\n",
      " \n",
      "Naive Bayes: Done in 1.3956730365753174\n",
      "Naive Bayes Accuracy: 0.8650519031141869\n",
      " \n"
     ]
    }
   ],
   "source": [
    "x_uni, y_uni = evaluate(unigram_clf, clf_names, unigram)"
   ]
  },
  {
   "cell_type": "markdown",
   "metadata": {},
   "source": [
    "# Raw Bigram Classifier"
   ]
  },
  {
   "cell_type": "code",
   "execution_count": 33,
   "metadata": {},
   "outputs": [],
   "source": [
    "bigram_clf, clf_names = genClassifiers(filter = [2, 4])"
   ]
  },
  {
   "cell_type": "code",
   "execution_count": 34,
   "metadata": {},
   "outputs": [
    {
     "name": "stdout",
     "output_type": "stream",
     "text": [
      "Random Forest: Done in 82.37594294548035\n",
      "Random Forest Accuracy: 0.8935024990388312\n",
      " \n",
      "Logistic Regression: Done in 29.032280683517456\n",
      "Logistic Regression Accuracy: 0.9150326797385621\n",
      " \n",
      "Naive Bayes: Done in 28.650110006332397\n",
      "Naive Bayes Accuracy: 0.8669742406766628\n",
      " \n"
     ]
    }
   ],
   "source": [
    "x_big, y_big = evaluate(bigram_clf, clf_names, bigram)"
   ]
  },
  {
   "cell_type": "markdown",
   "metadata": {},
   "source": [
    "# Saving Models"
   ]
  },
  {
   "cell_type": "code",
   "execution_count": 35,
   "metadata": {},
   "outputs": [],
   "source": [
    "from sklearn.externals import joblib"
   ]
  },
  {
   "cell_type": "code",
   "execution_count": 36,
   "metadata": {},
   "outputs": [],
   "source": [
    "path = os.getcwd()\n",
    "folderpath = path + \"/models\"\n",
    "os.mkdir(folderpath)"
   ]
  },
  {
   "cell_type": "code",
   "execution_count": 37,
   "metadata": {},
   "outputs": [],
   "source": [
    "def saveModels(features, feature_names, classifiers, X_array, y_array):\n",
    "    for i in range(0, len(features)):\n",
    "        feat = features[i]\n",
    "        os.mkdir(folderpath + feature_names[i])\n",
    "        for j in range(0, len(classifiers)):\n",
    "            clas = feat[j]\n",
    "            filepath = folderpath + feature_names[i] + classifiers[j] + \".pkl\"\n",
    "            joblib.dump(clas, filepath)\n",
    "            \n",
    "            # test to see if models correctly saved\n",
    "            clas_load = joblib.load(filepath)\n",
    "            X = X_array[i]\n",
    "            y = y_array[i]\n",
    "            \n",
    "            assert clas.score(X, y) == clas_load.score(X, y)"
   ]
  },
  {
   "cell_type": "code",
   "execution_count": 38,
   "metadata": {},
   "outputs": [],
   "source": [
    "f_list1 = [reduced_tfidf_clf, reduced_unigram_clf, reduced_bigram_clf, word2vec_clf]\n",
    "f_list2 = [tfidf_clf, unigram_clf, bigram_clf]\n",
    "\n",
    "fname_list1 = [\"/reduced_tfidf\", \"/reduced_unigram\", \"/reduced_bigram\", \"/word2vec\"]\n",
    "fname_list2 = [\"/tfidf\", \"/unigram\", \"/bigram\"]\n",
    "\n",
    "c_list1 = [\"/rand_forest\", \"/log_reg\", \"/lin_reg\", \"/svm\"]\n",
    "c_list2 = [\"/rand_forest\", \"/log_reg\", \"/naive_bayes\"]\n",
    "\n",
    "fx_list1 = [x_rtfidf, x_runi, x_rbig, x_vec]\n",
    "fy_list1 = [y_rtfidf, y_runi, y_rbig, y_vec]\n",
    "\n",
    "fx_list2 = [x_tfidf, x_uni, x_big]\n",
    "fy_list2 = [y_tfidf, y_uni, y_big]"
   ]
  },
  {
   "cell_type": "code",
   "execution_count": 39,
   "metadata": {},
   "outputs": [],
   "source": [
    "saveModels(f_list1, fname_list1, c_list1, fx_list1, fy_list1)\n",
    "saveModels(f_list2, fname_list2, c_list2, fx_list2, fy_list2)"
   ]
  }
 ],
 "metadata": {
  "kernelspec": {
   "display_name": "Python 3",
   "language": "python",
   "name": "python3"
  },
  "language_info": {
   "codemirror_mode": {
    "name": "ipython",
    "version": 3
   },
   "file_extension": ".py",
   "mimetype": "text/x-python",
   "name": "python",
   "nbconvert_exporter": "python",
   "pygments_lexer": "ipython3",
   "version": "3.6.0"
  }
 },
 "nbformat": 4,
 "nbformat_minor": 2
}
