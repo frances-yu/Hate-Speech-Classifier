{
 "cells": [
  {
   "cell_type": "code",
   "execution_count": 101,
   "metadata": {},
   "outputs": [],
   "source": [
    "import numpy as np\n",
    "import pandas as pd\n",
    "import matplotlib.pyplot as plt"
   ]
  },
  {
   "cell_type": "code",
   "execution_count": 102,
   "metadata": {},
   "outputs": [],
   "source": [
    "def loadCSV(filename):\n",
    "    file = filename\n",
    "    if '.csv' not in filename:\n",
    "        file += '.csv'\n",
    "    data = pd.read_csv(file, encoding = 'ISO-8859-1')\n",
    "    return data"
   ]
  },
  {
   "cell_type": "code",
   "execution_count": 103,
   "metadata": {},
   "outputs": [],
   "source": [
    "csvFile = \"stemmed_hate_speech\""
   ]
  },
  {
   "cell_type": "code",
   "execution_count": 104,
   "metadata": {},
   "outputs": [],
   "source": [
    "data = loadCSV(csvFile)"
   ]
  },
  {
   "cell_type": "code",
   "execution_count": 105,
   "metadata": {},
   "outputs": [
    {
     "data": {
      "text/html": [
       "<div>\n",
       "<style scoped>\n",
       "    .dataframe tbody tr th:only-of-type {\n",
       "        vertical-align: middle;\n",
       "    }\n",
       "\n",
       "    .dataframe tbody tr th {\n",
       "        vertical-align: top;\n",
       "    }\n",
       "\n",
       "    .dataframe thead th {\n",
       "        text-align: right;\n",
       "    }\n",
       "</style>\n",
       "<table border=\"1\" class=\"dataframe\">\n",
       "  <thead>\n",
       "    <tr style=\"text-align: right;\">\n",
       "      <th></th>\n",
       "      <th>tweet_text</th>\n",
       "      <th>confidence</th>\n",
       "      <th>tweet_class</th>\n",
       "    </tr>\n",
       "  </thead>\n",
       "  <tbody>\n",
       "    <tr>\n",
       "      <th>0</th>\n",
       "      <td>warn penni board make faggot</td>\n",
       "      <td>0.6013</td>\n",
       "      <td>1</td>\n",
       "    </tr>\n",
       "    <tr>\n",
       "      <th>1</th>\n",
       "      <td>fuck dyke</td>\n",
       "      <td>0.7227</td>\n",
       "      <td>2</td>\n",
       "    </tr>\n",
       "    <tr>\n",
       "      <th>2</th>\n",
       "      <td>[@] [@] [@] [@] [@] least look like jefre star...</td>\n",
       "      <td>0.5229</td>\n",
       "      <td>2</td>\n",
       "    </tr>\n",
       "    <tr>\n",
       "      <th>3</th>\n",
       "      <td>[@] [@] [@] fag jacki jealou neeeee</td>\n",
       "      <td>0.5184</td>\n",
       "      <td>2</td>\n",
       "    </tr>\n",
       "    <tr>\n",
       "      <th>4</th>\n",
       "      <td>[@] heard bitch way back th texa wtf talk bitc...</td>\n",
       "      <td>0.5185</td>\n",
       "      <td>1</td>\n",
       "    </tr>\n",
       "  </tbody>\n",
       "</table>\n",
       "</div>"
      ],
      "text/plain": [
       "                                          tweet_text  confidence  tweet_class\n",
       "0                       warn penni board make faggot      0.6013            1\n",
       "1                                          fuck dyke      0.7227            2\n",
       "2  [@] [@] [@] [@] [@] least look like jefre star...      0.5229            2\n",
       "3                [@] [@] [@] fag jacki jealou neeeee      0.5184            2\n",
       "4  [@] heard bitch way back th texa wtf talk bitc...      0.5185            1"
      ]
     },
     "execution_count": 105,
     "metadata": {},
     "output_type": "execute_result"
    }
   ],
   "source": [
    "data.head()"
   ]
  },
  {
   "cell_type": "code",
   "execution_count": 106,
   "metadata": {},
   "outputs": [
    {
     "data": {
      "text/html": [
       "<div>\n",
       "<style scoped>\n",
       "    .dataframe tbody tr th:only-of-type {\n",
       "        vertical-align: middle;\n",
       "    }\n",
       "\n",
       "    .dataframe tbody tr th {\n",
       "        vertical-align: top;\n",
       "    }\n",
       "\n",
       "    .dataframe thead th {\n",
       "        text-align: right;\n",
       "    }\n",
       "</style>\n",
       "<table border=\"1\" class=\"dataframe\">\n",
       "  <thead>\n",
       "    <tr style=\"text-align: right;\">\n",
       "      <th></th>\n",
       "      <th>tweet_text</th>\n",
       "      <th>confidence</th>\n",
       "      <th>tweet_class</th>\n",
       "    </tr>\n",
       "  </thead>\n",
       "  <tbody>\n",
       "    <tr>\n",
       "      <th>13069</th>\n",
       "      <td>sorri offend white supremacist aryan nation ne...</td>\n",
       "      <td>0.3418</td>\n",
       "      <td>0</td>\n",
       "    </tr>\n",
       "    <tr>\n",
       "      <th>13070</th>\n",
       "      <td>[@] caucasian euro aryan whatev realli doesnt ...</td>\n",
       "      <td>0.6804</td>\n",
       "      <td>0</td>\n",
       "    </tr>\n",
       "    <tr>\n",
       "      <th>13071</th>\n",
       "      <td>[@] sir patient name aryan khan villag meeranp...</td>\n",
       "      <td>1.0000</td>\n",
       "      <td>0</td>\n",
       "    </tr>\n",
       "    <tr>\n",
       "      <th>13072</th>\n",
       "      <td>[@] happi birthday bro happi year ahead</td>\n",
       "      <td>1.0000</td>\n",
       "      <td>0</td>\n",
       "    </tr>\n",
       "    <tr>\n",
       "      <th>13073</th>\n",
       "      <td>[@] aryan kapoor cute name tho want kamp first...</td>\n",
       "      <td>1.0000</td>\n",
       "      <td>0</td>\n",
       "    </tr>\n",
       "  </tbody>\n",
       "</table>\n",
       "</div>"
      ],
      "text/plain": [
       "                                              tweet_text  confidence  \\\n",
       "13069  sorri offend white supremacist aryan nation ne...      0.3418   \n",
       "13070  [@] caucasian euro aryan whatev realli doesnt ...      0.6804   \n",
       "13071  [@] sir patient name aryan khan villag meeranp...      1.0000   \n",
       "13072            [@] happi birthday bro happi year ahead      1.0000   \n",
       "13073  [@] aryan kapoor cute name tho want kamp first...      1.0000   \n",
       "\n",
       "       tweet_class  \n",
       "13069            0  \n",
       "13070            0  \n",
       "13071            0  \n",
       "13072            0  \n",
       "13073            0  "
      ]
     },
     "execution_count": 106,
     "metadata": {},
     "output_type": "execute_result"
    }
   ],
   "source": [
    "data.tail()"
   ]
  },
  {
   "cell_type": "markdown",
   "metadata": {},
   "source": [
    "# Calculate Frequency of Unique Words by Class"
   ]
  },
  {
   "cell_type": "code",
   "execution_count": 107,
   "metadata": {},
   "outputs": [],
   "source": [
    "def iterateFreq(dictionary, word):\n",
    "    if dictionary.get(word, False):\n",
    "        dictionary[word] += 1\n",
    "    else:\n",
    "        dictionary[word] = 1"
   ]
  },
  {
   "cell_type": "code",
   "execution_count": 108,
   "metadata": {},
   "outputs": [],
   "source": [
    "def wordFrequencies(dataframe):\n",
    "    all_tweets = {}\n",
    "    neutral = {}\n",
    "    offensive = {}\n",
    "    hate = {}\n",
    "    \n",
    "    for index, row in dataframe.iterrows():\n",
    "        tweet = row[0]\n",
    "        tweet_class = row[2]\n",
    "        \n",
    "        tweet_words = tweet.split()\n",
    "        \n",
    "        for word in tweet_words:\n",
    "            if tweet_class == 0:\n",
    "                iterateFreq(neutral, word)\n",
    "            elif tweet_class == 1:\n",
    "                iterateFreq(offensive, word)\n",
    "            elif tweet_class == 2:\n",
    "                iterateFreq(hate, word)\n",
    "                \n",
    "            iterateFreq(all_tweets, word)\n",
    "    \n",
    "    return all_tweets, neutral, offensive, hate"
   ]
  },
  {
   "cell_type": "code",
   "execution_count": 109,
   "metadata": {},
   "outputs": [],
   "source": [
    "def dispWordFreq(dictionary):\n",
    "    unique_words = sorted( ((v,k) for k, v in dictionary.items()), reverse = True)\n",
    "    for v, k in unique_words:\n",
    "        word_val = \"%s: %d\" % (k, v)\n",
    "        print(word_val)"
   ]
  },
  {
   "cell_type": "code",
   "execution_count": 110,
   "metadata": {},
   "outputs": [],
   "source": [
    "all_wf, neutral_wf, offensive_wf, hate_wf = wordFrequencies(data)"
   ]
  },
  {
   "cell_type": "code",
   "execution_count": 111,
   "metadata": {},
   "outputs": [],
   "source": [
    "all_wf_len = len(all_wf)\n",
    "neutral_wf_len = len(neutral_wf)\n",
    "offensive_wf_len = len(offensive_wf)\n",
    "hate_wf_len = len(hate_wf)"
   ]
  },
  {
   "cell_type": "code",
   "execution_count": 112,
   "metadata": {},
   "outputs": [
    {
     "data": {
      "text/plain": [
       "(14019, 10603, 5902, 3549)"
      ]
     },
     "execution_count": 112,
     "metadata": {},
     "output_type": "execute_result"
    }
   ],
   "source": [
    "all_wf_len, neutral_wf_len, offensive_wf_len, hate_wf_len"
   ]
  },
  {
   "cell_type": "code",
   "execution_count": 113,
   "metadata": {},
   "outputs": [
    {
     "data": {
      "image/png": "[encoded data removed]",
      "text/plain": [
       "<Figure size 432x288 with 1 Axes>"
      ]
     },
     "metadata": {
      "needs_background": "light"
     },
     "output_type": "display_data"
    }
   ],
   "source": [
    "tweets = ['All', 'Neutral', 'Offensive', 'Hate']\n",
    "y_pos = np.arange(len(tweets))\n",
    "lengths = [all_wf_len, neutral_wf_len, offensive_wf_len, hate_wf_len]\n",
    "\n",
    "plt.bar(y_pos, lengths, align='center', alpha=0.5, color='dodgerblue')\n",
    "plt.xticks(y_pos, tweets)\n",
    "plt.xlabel('Type of Tweets')\n",
    "plt.ylabel('Number of Words')\n",
    "plt.title('Number of Unique Words in Tweets')\n",
    "\n",
    "plt.show()"
   ]
  },
  {
   "cell_type": "markdown",
   "metadata": {},
   "source": [
    "# Find the Distribution of Unique Words"
   ]
  },
  {
   "cell_type": "code",
   "execution_count": 114,
   "metadata": {},
   "outputs": [],
   "source": [
    "def sortedWordFreq(dictionary):\n",
    "    unique_words = sorted( ((v,k) for k, v in dictionary.items()), reverse = True)\n",
    "    sorted_dict = {}\n",
    "    for v, k in unique_words:\n",
    "        sorted_dict[k] = v\n",
    "    return sorted_dict"
   ]
  },
  {
   "cell_type": "code",
   "execution_count": 115,
   "metadata": {},
   "outputs": [],
   "source": [
    "sorted_all_wf = sortedWordFreq(all_wf)\n",
    "sorted_neutral_wf = sortedWordFreq(neutral_wf)\n",
    "sorted_offensive_wf = sortedWordFreq(offensive_wf)\n",
    "sorted_hate_wf = sortedWordFreq(hate_wf)"
   ]
  },
  {
   "cell_type": "code",
   "execution_count": 116,
   "metadata": {},
   "outputs": [],
   "source": [
    "del sorted_all_wf['[@]']\n",
    "del sorted_all_wf['[link]']\n",
    "del sorted_neutral_wf['[@]']\n",
    "del sorted_neutral_wf['[link]']\n",
    "del sorted_offensive_wf['[@]']\n",
    "del sorted_offensive_wf['[link]']\n",
    "del sorted_hate_wf['[@]']\n",
    "del sorted_hate_wf['[link]']"
   ]
  },
  {
   "cell_type": "code",
   "execution_count": 117,
   "metadata": {},
   "outputs": [
    {
     "data": {
      "image/png": "[encoded data removed]",
      "text/plain": [
       "<Figure size 432x288 with 1 Axes>"
      ]
     },
     "metadata": {
      "needs_background": "light"
     },
     "output_type": "display_data"
    }
   ],
   "source": [
    "all_tweets = [w for w in list(sorted_all_wf.keys())[0:10]]\n",
    "y_pos = np.arange(len(all_tweets))\n",
    "lengths = [int(sorted_all_wf[w]) for w in list(sorted_all_wf.keys())[0:10]]\n",
    "\n",
    "plt.bar(y_pos, lengths, align='center', alpha=0.5, color='dodgerblue')\n",
    "plt.xticks(y_pos, all_tweets)\n",
    "plt.xlabel('Unique Words')\n",
    "plt.ylabel('Number of Words')\n",
    "plt.title('Top 10 Most Frequently Occuring Unique Words in All Tweets')\n",
    "\n",
    "plt.show()"
   ]
  },
  {
   "cell_type": "code",
   "execution_count": 118,
   "metadata": {},
   "outputs": [
    {
     "data": {
      "image/png": "[encoded data removed]",
      "text/plain": [
       "<Figure size 432x288 with 1 Axes>"
      ]
     },
     "metadata": {
      "needs_background": "light"
     },
     "output_type": "display_data"
    }
   ],
   "source": [
    "neutral_tweets = [w for w in list(sorted_neutral_wf.keys())[0:10]]\n",
    "y_pos = np.arange(len(neutral_tweets))\n",
    "lengths = [int(sorted_neutral_wf[w]) for w in list(sorted_neutral_wf.keys())[0:10]]\n",
    "\n",
    "plt.bar(y_pos, lengths, align='center', alpha=0.5, color='dodgerblue')\n",
    "plt.xticks(y_pos, neutral_tweets)\n",
    "plt.xlabel('Unique Words')\n",
    "plt.ylabel('Number of Words')\n",
    "plt.title('Top 10 Most Frequently Occuring Unique Words in Neutral Tweets')\n",
    "\n",
    "plt.show()"
   ]
  },
  {
   "cell_type": "code",
   "execution_count": 119,
   "metadata": {},
   "outputs": [
    {
     "data": {
      "image/png": "[encoded data removed]",
      "text/plain": [
       "<Figure size 432x288 with 1 Axes>"
      ]
     },
     "metadata": {
      "needs_background": "light"
     },
     "output_type": "display_data"
    }
   ],
   "source": [
    "offensive_tweets = [w for w in list(sorted_offensive_wf.keys())[0:10]]\n",
    "y_pos = np.arange(len(offensive_tweets))\n",
    "lengths = [int(sorted_offensive_wf[w]) for w in list(sorted_offensive_wf.keys())[0:10]]\n",
    "\n",
    "plt.bar(y_pos, lengths, align='center', alpha=0.5, color='dodgerblue')\n",
    "plt.xticks(y_pos, offensive_tweets)\n",
    "plt.xlabel('Unique Words')\n",
    "plt.ylabel('Number of Words')\n",
    "plt.title('Top 10 Most Frequently Occuring Unique Words in Offensive Tweets')\n",
    "\n",
    "plt.show()"
   ]
  },
  {
   "cell_type": "code",
   "execution_count": 120,
   "metadata": {},
   "outputs": [
    {
     "data": {
      "image/png": "[encoded data removed]",
      "text/plain": [
       "<Figure size 432x288 with 1 Axes>"
      ]
     },
     "metadata": {
      "needs_background": "light"
     },
     "output_type": "display_data"
    }
   ],
   "source": [
    "hate_tweets = [w for w in list(sorted_hate_wf.keys())[0:10]]\n",
    "y_pos = np.arange(len(hate_tweets))\n",
    "lengths = [int(sorted_hate_wf[w]) for w in list(sorted_hate_wf.keys())[0:10]]\n",
    "\n",
    "plt.bar(y_pos, lengths, align='center', alpha=0.5, color='dodgerblue')\n",
    "plt.xticks(y_pos, hate_tweets)\n",
    "plt.xlabel('Unique Words')\n",
    "plt.ylabel('Number of Words')\n",
    "plt.title('Top 10 Most Frequently Occuring Unique Words in Hate Tweets')\n",
    "\n",
    "plt.show()"
   ]
  },
  {
   "cell_type": "code",
   "execution_count": null,
   "metadata": {},
   "outputs": [],
   "source": []
  }
 ],
 "metadata": {
  "kernelspec": {
   "display_name": "Python 3",
   "language": "python",
   "name": "python3"
  },
  "language_info": {
   "codemirror_mode": {
    "name": "ipython",
    "version": 3
   },
   "file_extension": ".py",
   "mimetype": "text/x-python",
   "name": "python",
   "nbconvert_exporter": "python",
   "pygments_lexer": "ipython3",
   "version": "3.7.1"
  }
 },
 "nbformat": 4,
 "nbformat_minor": 2
}
