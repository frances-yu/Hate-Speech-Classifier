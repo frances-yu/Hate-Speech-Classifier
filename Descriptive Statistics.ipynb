{
 "cells": [
  {
   "cell_type": "code",
   "execution_count": 1,
   "metadata": {},
   "outputs": [],
   "source": [
    "import numpy as np\n",
    "import pandas as pd\n",
    "import matplotlib.pyplot as plt"
   ]
  },
  {
   "cell_type": "code",
   "execution_count": 2,
   "metadata": {},
   "outputs": [],
   "source": [
    "def loadCSV(filename):\n",
    "    file = filename\n",
    "    if '.csv' not in filename:\n",
    "        file += '.csv'\n",
    "    data = pd.read_csv(file, encoding = 'ISO-8859-1')\n",
    "    return data"
   ]
  },
  {
   "cell_type": "code",
   "execution_count": 3,
   "metadata": {},
   "outputs": [],
   "source": [
    "csvFile = \"stemmed_hate_speech\""
   ]
  },
  {
   "cell_type": "code",
   "execution_count": 4,
   "metadata": {},
   "outputs": [],
   "source": [
    "data = loadCSV(csvFile)"
   ]
  },
  {
   "cell_type": "code",
   "execution_count": 5,
   "metadata": {},
   "outputs": [
    {
     "data": {
      "text/html": [
       "<div>\n",
       "<style scoped>\n",
       "    .dataframe tbody tr th:only-of-type {\n",
       "        vertical-align: middle;\n",
       "    }\n",
       "\n",
       "    .dataframe tbody tr th {\n",
       "        vertical-align: top;\n",
       "    }\n",
       "\n",
       "    .dataframe thead th {\n",
       "        text-align: right;\n",
       "    }\n",
       "</style>\n",
       "<table border=\"1\" class=\"dataframe\">\n",
       "  <thead>\n",
       "    <tr style=\"text-align: right;\">\n",
       "      <th></th>\n",
       "      <th>tweet_text</th>\n",
       "      <th>confidence</th>\n",
       "      <th>tweet_class</th>\n",
       "    </tr>\n",
       "  </thead>\n",
       "  <tbody>\n",
       "    <tr>\n",
       "      <th>0</th>\n",
       "      <td>warn penni board make faggot</td>\n",
       "      <td>0.6013</td>\n",
       "      <td>1</td>\n",
       "    </tr>\n",
       "    <tr>\n",
       "      <th>1</th>\n",
       "      <td>fuck dyke</td>\n",
       "      <td>0.7227</td>\n",
       "      <td>2</td>\n",
       "    </tr>\n",
       "    <tr>\n",
       "      <th>2</th>\n",
       "      <td>[@] [@] [@] [@] [@] least look like jefre star...</td>\n",
       "      <td>0.5229</td>\n",
       "      <td>2</td>\n",
       "    </tr>\n",
       "    <tr>\n",
       "      <th>3</th>\n",
       "      <td>[@] [@] [@] fag jacki jealou neeeee</td>\n",
       "      <td>0.5184</td>\n",
       "      <td>2</td>\n",
       "    </tr>\n",
       "    <tr>\n",
       "      <th>4</th>\n",
       "      <td>[@] heard bitch way back th texa wtf talk bitc...</td>\n",
       "      <td>0.5185</td>\n",
       "      <td>1</td>\n",
       "    </tr>\n",
       "  </tbody>\n",
       "</table>\n",
       "</div>"
      ],
      "text/plain": [
       "                                          tweet_text  confidence  tweet_class\n",
       "0                       warn penni board make faggot      0.6013            1\n",
       "1                                          fuck dyke      0.7227            2\n",
       "2  [@] [@] [@] [@] [@] least look like jefre star...      0.5229            2\n",
       "3                [@] [@] [@] fag jacki jealou neeeee      0.5184            2\n",
       "4  [@] heard bitch way back th texa wtf talk bitc...      0.5185            1"
      ]
     },
     "execution_count": 5,
     "metadata": {},
     "output_type": "execute_result"
    }
   ],
   "source": [
    "data.head()"
   ]
  },
  {
   "cell_type": "code",
   "execution_count": 6,
   "metadata": {},
   "outputs": [
    {
     "data": {
      "text/html": [
       "<div>\n",
       "<style scoped>\n",
       "    .dataframe tbody tr th:only-of-type {\n",
       "        vertical-align: middle;\n",
       "    }\n",
       "\n",
       "    .dataframe tbody tr th {\n",
       "        vertical-align: top;\n",
       "    }\n",
       "\n",
       "    .dataframe thead th {\n",
       "        text-align: right;\n",
       "    }\n",
       "</style>\n",
       "<table border=\"1\" class=\"dataframe\">\n",
       "  <thead>\n",
       "    <tr style=\"text-align: right;\">\n",
       "      <th></th>\n",
       "      <th>tweet_text</th>\n",
       "      <th>confidence</th>\n",
       "      <th>tweet_class</th>\n",
       "    </tr>\n",
       "  </thead>\n",
       "  <tbody>\n",
       "    <tr>\n",
       "      <th>13000</th>\n",
       "      <td>sorri offend white supremacist aryan nation ne...</td>\n",
       "      <td>0.3418</td>\n",
       "      <td>0</td>\n",
       "    </tr>\n",
       "    <tr>\n",
       "      <th>13001</th>\n",
       "      <td>[@] caucasian euro aryan whatev realli doesnt ...</td>\n",
       "      <td>0.6804</td>\n",
       "      <td>0</td>\n",
       "    </tr>\n",
       "    <tr>\n",
       "      <th>13002</th>\n",
       "      <td>[@] sir patient name aryan khan villag meeranp...</td>\n",
       "      <td>1.0000</td>\n",
       "      <td>0</td>\n",
       "    </tr>\n",
       "    <tr>\n",
       "      <th>13003</th>\n",
       "      <td>[@] happi birthday bro happi year ahead</td>\n",
       "      <td>1.0000</td>\n",
       "      <td>0</td>\n",
       "    </tr>\n",
       "    <tr>\n",
       "      <th>13004</th>\n",
       "      <td>[@] aryan kapoor cute name tho want kamp first...</td>\n",
       "      <td>1.0000</td>\n",
       "      <td>0</td>\n",
       "    </tr>\n",
       "  </tbody>\n",
       "</table>\n",
       "</div>"
      ],
      "text/plain": [
       "                                              tweet_text  confidence  \\\n",
       "13000  sorri offend white supremacist aryan nation ne...      0.3418   \n",
       "13001  [@] caucasian euro aryan whatev realli doesnt ...      0.6804   \n",
       "13002  [@] sir patient name aryan khan villag meeranp...      1.0000   \n",
       "13003            [@] happi birthday bro happi year ahead      1.0000   \n",
       "13004  [@] aryan kapoor cute name tho want kamp first...      1.0000   \n",
       "\n",
       "       tweet_class  \n",
       "13000            0  \n",
       "13001            0  \n",
       "13002            0  \n",
       "13003            0  \n",
       "13004            0  "
      ]
     },
     "execution_count": 6,
     "metadata": {},
     "output_type": "execute_result"
    }
   ],
   "source": [
    "data.tail()"
   ]
  },
  {
   "cell_type": "markdown",
   "metadata": {},
   "source": [
    "# Calculate Frequency of Unique Words by Class"
   ]
  },
  {
   "cell_type": "code",
   "execution_count": 7,
   "metadata": {},
   "outputs": [],
   "source": [
    "def iterateFreq(dictionary, word):\n",
    "    if dictionary.get(word, False):\n",
    "        dictionary[word] += 1\n",
    "    else:\n",
    "        dictionary[word] = 1"
   ]
  },
  {
   "cell_type": "code",
   "execution_count": 8,
   "metadata": {},
   "outputs": [],
   "source": [
    "def wordFrequencies(dataframe):\n",
    "    all_tweets = {}\n",
    "    neutral = {}\n",
    "    offensive = {}\n",
    "    hate = {}\n",
    "    \n",
    "    for index, row in dataframe.iterrows():\n",
    "        tweet = row[0]\n",
    "        tweet_class = row[2]\n",
    "        \n",
    "        tweet_words = tweet.split()\n",
    "        \n",
    "        for word in tweet_words:\n",
    "            if tweet_class == 0:\n",
    "                iterateFreq(neutral, word)\n",
    "            elif tweet_class == 1:\n",
    "                iterateFreq(offensive, word)\n",
    "            elif tweet_class == 2:\n",
    "                iterateFreq(hate, word)\n",
    "                \n",
    "            iterateFreq(all_tweets, word)\n",
    "    \n",
    "    return all_tweets, neutral, offensive, hate"
   ]
  },
  {
   "cell_type": "code",
   "execution_count": 9,
   "metadata": {},
   "outputs": [],
   "source": [
    "def dispWordFreq(dictionary):\n",
    "    unique_words = sorted( ((v,k) for k, v in dictionary.items()), reverse = True)\n",
    "    for v, k in unique_words:\n",
    "        word_val = \"%s: %d\" % (k, v)\n",
    "        print(word_val)"
   ]
  },
  {
   "cell_type": "code",
   "execution_count": 10,
   "metadata": {},
   "outputs": [],
   "source": [
    "all_wf, neutral_wf, offensive_wf, hate_wf = wordFrequencies(data)"
   ]
  },
  {
   "cell_type": "code",
   "execution_count": 11,
   "metadata": {},
   "outputs": [],
   "source": [
    "all_wf_len = len(all_wf)\n",
    "neutral_wf_len = len(neutral_wf)\n",
    "offensive_wf_len = len(offensive_wf)\n",
    "hate_wf_len = len(hate_wf)"
   ]
  },
  {
   "cell_type": "code",
   "execution_count": 12,
   "metadata": {},
   "outputs": [
    {
     "data": {
      "text/plain": [
       "(13398, 10092, 5766, 3481)"
      ]
     },
     "execution_count": 12,
     "metadata": {},
     "output_type": "execute_result"
    }
   ],
   "source": [
    "all_wf_len, neutral_wf_len, offensive_wf_len, hate_wf_len"
   ]
  },
  {
   "cell_type": "markdown",
   "metadata": {},
   "source": [
    "Create a bar graph to visually compare the number of unique words in tweets by class."
   ]
  },
  {
   "cell_type": "code",
   "execution_count": 13,
   "metadata": {},
   "outputs": [
    {
     "data": {
      "image/png": "[encoded data removed]",
      "text/plain": [
       "<Figure size 432x288 with 1 Axes>"
      ]
     },
     "metadata": {
      "needs_background": "light"
     },
     "output_type": "display_data"
    }
   ],
   "source": [
    "tweets = ['All', 'Neutral', 'Offensive', 'Hate']\n",
    "y_pos = np.arange(len(tweets))\n",
    "lengths = [all_wf_len, neutral_wf_len, offensive_wf_len, hate_wf_len]\n",
    "\n",
    "plt.bar(y_pos, lengths, align='center', alpha=0.5, color='dodgerblue')\n",
    "plt.xticks(y_pos, tweets)\n",
    "plt.xlabel('Type of Tweets')\n",
    "plt.ylabel('Number of Words')\n",
    "plt.title('Number of Unique Words in Tweets')\n",
    "\n",
    "plt.show()"
   ]
  },
  {
   "cell_type": "markdown",
   "metadata": {},
   "source": [
    "# Find the Distribution of Unique Words"
   ]
  },
  {
   "cell_type": "markdown",
   "metadata": {},
   "source": [
    "Create bar graphs to visually compare the top 10 most frequently occuring unique words in tweets by class."
   ]
  },
  {
   "cell_type": "code",
   "execution_count": 14,
   "metadata": {},
   "outputs": [],
   "source": [
    "def sortedWordFreq(dictionary):\n",
    "    unique_words = sorted( ((v,k) for k, v in dictionary.items()), reverse = True)\n",
    "    sorted_dict = {}\n",
    "    for v, k in unique_words:\n",
    "        sorted_dict[k] = v\n",
    "    return sorted_dict"
   ]
  },
  {
   "cell_type": "code",
   "execution_count": 15,
   "metadata": {},
   "outputs": [],
   "source": [
    "sorted_all_wf = sortedWordFreq(all_wf)\n",
    "sorted_neutral_wf = sortedWordFreq(neutral_wf)\n",
    "sorted_offensive_wf = sortedWordFreq(offensive_wf)\n",
    "sorted_hate_wf = sortedWordFreq(hate_wf)"
   ]
  },
  {
   "cell_type": "code",
   "execution_count": 16,
   "metadata": {},
   "outputs": [],
   "source": [
    "del sorted_all_wf['[@]']\n",
    "del sorted_all_wf['[link]']\n",
    "del sorted_neutral_wf['[@]']\n",
    "del sorted_neutral_wf['[link]']\n",
    "del sorted_offensive_wf['[@]']\n",
    "del sorted_offensive_wf['[link]']\n",
    "del sorted_hate_wf['[@]']\n",
    "del sorted_hate_wf['[link]']"
   ]
  },
  {
   "cell_type": "code",
   "execution_count": 17,
   "metadata": {},
   "outputs": [
    {
     "data": {
      "image/png": "[encoded data removed]",
      "text/plain": [
       "<Figure size 432x288 with 1 Axes>"
      ]
     },
     "metadata": {
      "needs_background": "light"
     },
     "output_type": "display_data"
    }
   ],
   "source": [
    "all_tweets = [w for w in list(sorted_all_wf.keys())[0:10]]\n",
    "y_pos = np.arange(len(all_tweets))\n",
    "lengths = [int(sorted_all_wf[w]) for w in list(sorted_all_wf.keys())[0:10]]\n",
    "\n",
    "plt.bar(y_pos, lengths, align='center', alpha=0.5, color='dodgerblue')\n",
    "plt.xticks(y_pos, all_tweets)\n",
    "plt.xlabel('Unique Words')\n",
    "plt.ylabel('Number of Words')\n",
    "plt.title('Top 10 Most Frequently Occuring Unique Words in All Tweets')\n",
    "\n",
    "plt.show()"
   ]
  },
  {
   "cell_type": "code",
   "execution_count": 18,
   "metadata": {},
   "outputs": [
    {
     "data": {
      "image/png": "[encoded data removed]",
      "text/plain": [
       "<Figure size 432x288 with 1 Axes>"
      ]
     },
     "metadata": {
      "needs_background": "light"
     },
     "output_type": "display_data"
    }
   ],
   "source": [
    "neutral_tweets = [w for w in list(sorted_neutral_wf.keys())[0:10]]\n",
    "y_pos = np.arange(len(neutral_tweets))\n",
    "lengths = [int(sorted_neutral_wf[w]) for w in list(sorted_neutral_wf.keys())[0:10]]\n",
    "\n",
    "plt.bar(y_pos, lengths, align='center', alpha=0.5, color='dodgerblue')\n",
    "plt.xticks(y_pos, neutral_tweets)\n",
    "plt.xlabel('Unique Words')\n",
    "plt.ylabel('Number of Words')\n",
    "plt.title('Top 10 Most Frequently Occuring Unique Words in Neutral Tweets')\n",
    "\n",
    "plt.show()"
   ]
  },
  {
   "cell_type": "code",
   "execution_count": 19,
   "metadata": {},
   "outputs": [
    {
     "data": {
      "image/png": "[encoded data removed]",
      "text/plain": [
       "<Figure size 432x288 with 1 Axes>"
      ]
     },
     "metadata": {
      "needs_background": "light"
     },
     "output_type": "display_data"
    }
   ],
   "source": [
    "offensive_tweets = [w for w in list(sorted_offensive_wf.keys())[0:10]]\n",
    "y_pos = np.arange(len(offensive_tweets))\n",
    "lengths = [int(sorted_offensive_wf[w]) for w in list(sorted_offensive_wf.keys())[0:10]]\n",
    "\n",
    "plt.bar(y_pos, lengths, align='center', alpha=0.5, color='dodgerblue')\n",
    "plt.xticks(y_pos, offensive_tweets)\n",
    "plt.xlabel('Unique Words')\n",
    "plt.ylabel('Number of Words')\n",
    "plt.title('Top 10 Most Frequently Occuring Unique Words in Offensive Tweets')\n",
    "\n",
    "plt.show()"
   ]
  },
  {
   "cell_type": "code",
   "execution_count": 20,
   "metadata": {},
   "outputs": [
    {
     "data": {
      "image/png": "[encoded data removed]",
      "text/plain": [
       "<Figure size 432x288 with 1 Axes>"
      ]
     },
     "metadata": {
      "needs_background": "light"
     },
     "output_type": "display_data"
    }
   ],
   "source": [
    "hate_tweets = [w for w in list(sorted_hate_wf.keys())[0:10]]\n",
    "y_pos = np.arange(len(hate_tweets))\n",
    "lengths = [int(sorted_hate_wf[w]) for w in list(sorted_hate_wf.keys())[0:10]]\n",
    "\n",
    "plt.bar(y_pos, lengths, align='center', alpha=0.5, color='dodgerblue')\n",
    "plt.xticks(y_pos, hate_tweets)\n",
    "plt.xlabel('Unique Words')\n",
    "plt.ylabel('Number of Words')\n",
    "plt.title('Top 10 Most Frequently Occuring Unique Words in Hate Tweets')\n",
    "\n",
    "plt.show()"
   ]
  }
 ],
 "metadata": {
  "kernelspec": {
   "display_name": "Python 3",
   "language": "python",
   "name": "python3"
  },
  "language_info": {
   "codemirror_mode": {
    "name": "ipython",
    "version": 3
   },
   "file_extension": ".py",
   "mimetype": "text/x-python",
   "name": "python",
   "nbconvert_exporter": "python",
   "pygments_lexer": "ipython3",
   "version": "3.7.1"
  }
 },
 "nbformat": 4,
 "nbformat_minor": 2
}
