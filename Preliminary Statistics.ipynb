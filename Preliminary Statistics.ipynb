{
 "cells": [
  {
   "cell_type": "code",
   "execution_count": 77,
   "metadata": {},
   "outputs": [],
   "source": [
    "import numpy as np\n",
    "import pandas as pd\n",
    "import matplotlib.pyplot as plt"
   ]
  },
  {
   "cell_type": "code",
   "execution_count": 78,
   "metadata": {},
   "outputs": [],
   "source": [
    "def loadCSV(filename):\n",
    "    file = filename\n",
    "    \n",
    "    if '.csv' not in filename:\n",
    "        file += '.csv'\n",
    "    \n",
    "    data = pd.read_csv(file, encoding = 'ISO-8859-1')\n",
    "    return data"
   ]
  },
  {
   "cell_type": "code",
   "execution_count": 79,
   "metadata": {},
   "outputs": [],
   "source": [
    "csvFile = \"altered_hate_speech\"\n",
    "data = loadCSV(csvFile)"
   ]
  },
  {
   "cell_type": "code",
   "execution_count": 80,
   "metadata": {},
   "outputs": [
    {
     "data": {
      "text/html": [
       "<div>\n",
       "<style scoped>\n",
       "    .dataframe tbody tr th:only-of-type {\n",
       "        vertical-align: middle;\n",
       "    }\n",
       "\n",
       "    .dataframe tbody tr th {\n",
       "        vertical-align: top;\n",
       "    }\n",
       "\n",
       "    .dataframe thead th {\n",
       "        text-align: right;\n",
       "    }\n",
       "</style>\n",
       "<table border=\"1\" class=\"dataframe\">\n",
       "  <thead>\n",
       "    <tr style=\"text-align: right;\">\n",
       "      <th></th>\n",
       "      <th>tweet_text</th>\n",
       "      <th>confidence</th>\n",
       "      <th>tweet_class</th>\n",
       "    </tr>\n",
       "  </thead>\n",
       "  <tbody>\n",
       "    <tr>\n",
       "      <th>0</th>\n",
       "      <td>Warning: penny boards will make you a faggot</td>\n",
       "      <td>0.6013</td>\n",
       "      <td>1</td>\n",
       "    </tr>\n",
       "    <tr>\n",
       "      <th>1</th>\n",
       "      <td>Fuck dykes</td>\n",
       "      <td>0.7227</td>\n",
       "      <td>2</td>\n",
       "    </tr>\n",
       "    <tr>\n",
       "      <th>2</th>\n",
       "      <td>@sizzurp__ @ILIKECATS74 @yoPapi_chulo @brandon...</td>\n",
       "      <td>0.5229</td>\n",
       "      <td>2</td>\n",
       "    </tr>\n",
       "    <tr>\n",
       "      <th>3</th>\n",
       "      <td>\"@jayswaggkillah: \"@JacklynAnnn: @jayswaggkill...</td>\n",
       "      <td>0.5184</td>\n",
       "      <td>2</td>\n",
       "    </tr>\n",
       "    <tr>\n",
       "      <th>4</th>\n",
       "      <td>@Zhugstubble You heard me bitch but any way I'...</td>\n",
       "      <td>0.5185</td>\n",
       "      <td>1</td>\n",
       "    </tr>\n",
       "  </tbody>\n",
       "</table>\n",
       "</div>"
      ],
      "text/plain": [
       "                                          tweet_text  confidence  tweet_class\n",
       "0       Warning: penny boards will make you a faggot      0.6013            1\n",
       "1                                         Fuck dykes      0.7227            2\n",
       "2  @sizzurp__ @ILIKECATS74 @yoPapi_chulo @brandon...      0.5229            2\n",
       "3  \"@jayswaggkillah: \"@JacklynAnnn: @jayswaggkill...      0.5184            2\n",
       "4  @Zhugstubble You heard me bitch but any way I'...      0.5185            1"
      ]
     },
     "execution_count": 80,
     "metadata": {},
     "output_type": "execute_result"
    }
   ],
   "source": [
    "data.head()"
   ]
  },
  {
   "cell_type": "code",
   "execution_count": 81,
   "metadata": {},
   "outputs": [
    {
     "data": {
      "text/html": [
       "<div>\n",
       "<style scoped>\n",
       "    .dataframe tbody tr th:only-of-type {\n",
       "        vertical-align: middle;\n",
       "    }\n",
       "\n",
       "    .dataframe tbody tr th {\n",
       "        vertical-align: top;\n",
       "    }\n",
       "\n",
       "    .dataframe thead th {\n",
       "        text-align: right;\n",
       "    }\n",
       "</style>\n",
       "<table border=\"1\" class=\"dataframe\">\n",
       "  <thead>\n",
       "    <tr style=\"text-align: right;\">\n",
       "      <th></th>\n",
       "      <th>tweet_text</th>\n",
       "      <th>confidence</th>\n",
       "      <th>tweet_class</th>\n",
       "    </tr>\n",
       "  </thead>\n",
       "  <tbody>\n",
       "    <tr>\n",
       "      <th>14504</th>\n",
       "      <td>I'm sorry. Did I offend your white supremacist...</td>\n",
       "      <td>0.3418</td>\n",
       "      <td>0</td>\n",
       "    </tr>\n",
       "    <tr>\n",
       "      <th>14505</th>\n",
       "      <td>@tradethecycles Caucasian euro aryan whatever....</td>\n",
       "      <td>0.6804</td>\n",
       "      <td>0</td>\n",
       "    </tr>\n",
       "    <tr>\n",
       "      <th>14506</th>\n",
       "      <td>@yadavakhilesh sir a patient named aryan khan ...</td>\n",
       "      <td>1.0000</td>\n",
       "      <td>0</td>\n",
       "    </tr>\n",
       "    <tr>\n",
       "      <th>14507</th>\n",
       "      <td>@Iamshivachari  Happy birthday bro _ÃÂ«ÃÃ_ ...</td>\n",
       "      <td>1.0000</td>\n",
       "      <td>0</td>\n",
       "    </tr>\n",
       "    <tr>\n",
       "      <th>14508</th>\n",
       "      <td>@Hajrahkiayni Aryan Kapoor is such a cute name...</td>\n",
       "      <td>1.0000</td>\n",
       "      <td>0</td>\n",
       "    </tr>\n",
       "  </tbody>\n",
       "</table>\n",
       "</div>"
      ],
      "text/plain": [
       "                                              tweet_text  confidence  \\\n",
       "14504  I'm sorry. Did I offend your white supremacist...      0.3418   \n",
       "14505  @tradethecycles Caucasian euro aryan whatever....      0.6804   \n",
       "14506  @yadavakhilesh sir a patient named aryan khan ...      1.0000   \n",
       "14507  @Iamshivachari  Happy birthday bro _ÃÂ«ÃÃ_ ...      1.0000   \n",
       "14508  @Hajrahkiayni Aryan Kapoor is such a cute name...      1.0000   \n",
       "\n",
       "       tweet_class  \n",
       "14504            0  \n",
       "14505            0  \n",
       "14506            0  \n",
       "14507            0  \n",
       "14508            0  "
      ]
     },
     "execution_count": 81,
     "metadata": {},
     "output_type": "execute_result"
    }
   ],
   "source": [
    "data.tail()"
   ]
  },
  {
   "cell_type": "markdown",
   "metadata": {},
   "source": [
    "# Average Length of Tweets by Class"
   ]
  },
  {
   "cell_type": "markdown",
   "metadata": {},
   "source": [
    "Determine the average length of tweets in all, neutral, offensive, and hate type tweets."
   ]
  },
  {
   "cell_type": "code",
   "execution_count": 82,
   "metadata": {},
   "outputs": [],
   "source": [
    "all_tweets = []\n",
    "neutral_tweets = []\n",
    "offensive_tweets = []\n",
    "hate_tweets = []"
   ]
  },
  {
   "cell_type": "code",
   "execution_count": 83,
   "metadata": {},
   "outputs": [],
   "source": [
    "for index, row in data.iterrows():\n",
    "    tweet_text = row[0]\n",
    "    tweet_class = row[2]\n",
    "    \n",
    "    if tweet_class == 0:\n",
    "        neutral_tweets.append(tweet_text)\n",
    "    elif tweet_class == 1:\n",
    "        offensive_tweets.append(tweet_text)\n",
    "    elif tweet_class == 2:\n",
    "        hate_tweets.append(tweet_text)\n",
    "        \n",
    "    all_tweets.append(tweet_text)"
   ]
  },
  {
   "cell_type": "code",
   "execution_count": 84,
   "metadata": {},
   "outputs": [],
   "source": [
    "def averageTweetLength(tweetArray):\n",
    "    tweets = len(tweetArray)\n",
    "    totalLen = 0\n",
    "    \n",
    "    for t in tweetArray:\n",
    "        totalLen += len(t)\n",
    "    \n",
    "    return totalLen/tweets"
   ]
  },
  {
   "cell_type": "code",
   "execution_count": 85,
   "metadata": {},
   "outputs": [],
   "source": [
    "all_tweets_len = averageTweetLength(all_tweets)\n",
    "neutral_tweets_len = averageTweetLength(neutral_tweets)\n",
    "offensive_tweets_len = averageTweetLength(offensive_tweets)\n",
    "hate_tweets_len = averageTweetLength(hate_tweets)"
   ]
  },
  {
   "cell_type": "code",
   "execution_count": 86,
   "metadata": {},
   "outputs": [
    {
     "data": {
      "text/plain": [
       "(91.17285822592874, 99.93497387957107, 84.14991728701406, 78.76240100041684)"
      ]
     },
     "execution_count": 86,
     "metadata": {},
     "output_type": "execute_result"
    }
   ],
   "source": [
    "all_tweets_len, neutral_tweets_len, offensive_tweets_len, hate_tweets_len"
   ]
  },
  {
   "cell_type": "markdown",
   "metadata": {},
   "source": [
    "Create a bar graph to visually compare the average lengths of tweets by class."
   ]
  },
  {
   "cell_type": "code",
   "execution_count": 87,
   "metadata": {},
   "outputs": [
    {
     "data": {
      "image/png": "[encoded data removed]",
      "text/plain": [
       "<Figure size 432x288 with 1 Axes>"
      ]
     },
     "metadata": {
      "needs_background": "light"
     },
     "output_type": "display_data"
    }
   ],
   "source": [
    "tweets = ['All', 'Neutral', 'Offensive', 'Hate']\n",
    "y_pos = np.arange(len(tweets))\n",
    "lengths = [all_tweets_len, neutral_tweets_len, offensive_tweets_len, hate_tweets_len]\n",
    "\n",
    "plt.bar(y_pos, lengths, align='center', alpha=0.5, color='dodgerblue')\n",
    "plt.xticks(y_pos, tweets)\n",
    "plt.xlabel('Type of Tweets')\n",
    "plt.ylabel('Tweet Length')\n",
    "plt.title('Average Length of Tweets')\n",
    "\n",
    "plt.show()"
   ]
  },
  {
   "cell_type": "markdown",
   "metadata": {},
   "source": [
    "Neutral tweets have the highest average length and hate tweets have the lowest average length."
   ]
  },
  {
   "cell_type": "markdown",
   "metadata": {},
   "source": [
    "# Percentage of Tweets that Include a User Tag '@'"
   ]
  },
  {
   "cell_type": "markdown",
   "metadata": {},
   "source": [
    "Determine the percentage of tweets that include a user tag, denoted with '@', in all, neutral, offensive, and hate tweets."
   ]
  },
  {
   "cell_type": "code",
   "execution_count": 88,
   "metadata": {},
   "outputs": [],
   "source": [
    "def percentUserTag(tweetArray):\n",
    "    tweets = len(tweetArray)\n",
    "    totalTagged = 0\n",
    "    \n",
    "    for t in tweetArray:\n",
    "        if '@' in t:\n",
    "            totalTagged += 1\n",
    "    \n",
    "    return totalTagged/tweets * 100"
   ]
  },
  {
   "cell_type": "code",
   "execution_count": 89,
   "metadata": {},
   "outputs": [],
   "source": [
    "all_tweets_tagged = percentUserTag(all_tweets)\n",
    "neutral_tweets_tagged = percentUserTag(neutral_tweets)\n",
    "offensive_tweets_tagged = percentUserTag(offensive_tweets)\n",
    "hate_tweets_tagged = percentUserTag(hate_tweets)"
   ]
  },
  {
   "cell_type": "code",
   "execution_count": 90,
   "metadata": {},
   "outputs": [
    {
     "data": {
      "text/plain": [
       "(41.82231718243848, 41.14654935386308, 38.27543424317618, 51.02125885785745)"
      ]
     },
     "execution_count": 90,
     "metadata": {},
     "output_type": "execute_result"
    }
   ],
   "source": [
    "all_tweets_tagged, neutral_tweets_tagged, offensive_tweets_tagged, hate_tweets_tagged"
   ]
  },
  {
   "cell_type": "markdown",
   "metadata": {},
   "source": [
    "Create a bar graph to visually compare the percentages of tweets that include a user tag by class."
   ]
  },
  {
   "cell_type": "code",
   "execution_count": 91,
   "metadata": {
    "scrolled": true
   },
   "outputs": [
    {
     "data": {
      "image/png": "[encoded data removed]",
      "text/plain": [
       "<Figure size 432x288 with 1 Axes>"
      ]
     },
     "metadata": {
      "needs_background": "light"
     },
     "output_type": "display_data"
    }
   ],
   "source": [
    "tweets = ['All', 'Neutral', 'Offensive', 'Hate']\n",
    "y_pos = np.arange(len(tweets))\n",
    "tagged = [all_tweets_tagged, neutral_tweets_tagged, offensive_tweets_tagged, hate_tweets_tagged]\n",
    "\n",
    "plt.bar(y_pos, tagged, align='center', alpha=0.5, color='dodgerblue')\n",
    "plt.xticks(y_pos, tweets)\n",
    "plt.xlabel('Type of Tweets')\n",
    "plt.ylabel('Percentage')\n",
    "plt.title('Percentage of Tweets that include a User Tag')\n",
    "\n",
    "plt.show()"
   ]
  },
  {
   "cell_type": "markdown",
   "metadata": {},
   "source": [
    "Hate tweets have the highest percentage and offensive tweets have the lowest percentage."
   ]
  },
  {
   "cell_type": "markdown",
   "metadata": {},
   "source": [
    "# Percentage of Tweets that Include a Link 'http'"
   ]
  },
  {
   "cell_type": "markdown",
   "metadata": {},
   "source": [
    "Determine the percentage of tweets that include a link, denoted with 'http', in all, neutral, offensive, and hate tweets."
   ]
  },
  {
   "cell_type": "code",
   "execution_count": 92,
   "metadata": {},
   "outputs": [],
   "source": [
    "def percentLinks(tweetArray):\n",
    "    tweets = len(tweetArray)\n",
    "    totalTagged = 0\n",
    "    \n",
    "    for t in tweetArray:\n",
    "        if 'http' in t:\n",
    "            totalTagged += 1\n",
    "    \n",
    "    return totalTagged/tweets * 100"
   ]
  },
  {
   "cell_type": "code",
   "execution_count": 93,
   "metadata": {},
   "outputs": [],
   "source": [
    "all_tweets_with_links = percentLinks(all_tweets)\n",
    "neutral_tweets_with_links = percentLinks(neutral_tweets)\n",
    "offensive_tweets_with_links = percentLinks(offensive_tweets)\n",
    "hate_tweets_with_links = percentLinks(hate_tweets)"
   ]
  },
  {
   "cell_type": "code",
   "execution_count": 94,
   "metadata": {},
   "outputs": [
    {
     "data": {
      "text/plain": [
       "(24.240126817837204,\n",
       " 32.196865548529004,\n",
       " 16.811414392059554,\n",
       " 15.089620675281367)"
      ]
     },
     "execution_count": 94,
     "metadata": {},
     "output_type": "execute_result"
    }
   ],
   "source": [
    "all_tweets_with_links, neutral_tweets_with_links, offensive_tweets_with_links, hate_tweets_with_links"
   ]
  },
  {
   "cell_type": "markdown",
   "metadata": {},
   "source": [
    "Create a bar graph to visually compare the percentages of tweets that include a user tag by class."
   ]
  },
  {
   "cell_type": "code",
   "execution_count": 95,
   "metadata": {},
   "outputs": [
    {
     "data": {
      "image/png": "[encoded data removed]",
      "text/plain": [
       "<Figure size 432x288 with 1 Axes>"
      ]
     },
     "metadata": {
      "needs_background": "light"
     },
     "output_type": "display_data"
    }
   ],
   "source": [
    "tweets = ['All', 'Neutral', 'Offensive', 'Hate']\n",
    "y_pos = np.arange(len(tweets))\n",
    "tagged = [all_tweets_with_links, neutral_tweets_with_links, offensive_tweets_with_links, hate_tweets_with_links]\n",
    "\n",
    "plt.bar(y_pos, tagged, align='center', alpha=0.5, color='dodgerblue')\n",
    "plt.xticks(y_pos, tweets)\n",
    "plt.xlabel('Type of Tweets')\n",
    "plt.ylabel('Percentage')\n",
    "plt.title('Percentage of Tweets that include a Link')\n",
    "\n",
    "plt.show()"
   ]
  },
  {
   "cell_type": "markdown",
   "metadata": {},
   "source": [
    "Neutral tweets have the highest percentage and hate tweets have the lowest percentage."
   ]
  }
 ],
 "metadata": {
  "kernelspec": {
   "display_name": "Python 3",
   "language": "python",
   "name": "python3"
  },
  "language_info": {
   "codemirror_mode": {
    "name": "ipython",
    "version": 3
   },
   "file_extension": ".py",
   "mimetype": "text/x-python",
   "name": "python",
   "nbconvert_exporter": "python",
   "pygments_lexer": "ipython3",
   "version": "3.7.1"
  }
 },
 "nbformat": 4,
 "nbformat_minor": 2
}
