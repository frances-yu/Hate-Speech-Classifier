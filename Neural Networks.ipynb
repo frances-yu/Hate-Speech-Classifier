{
 "cells": [
  {
   "cell_type": "code",
   "execution_count": 1,
   "metadata": {},
   "outputs": [],
   "source": [
    "import numpy as np\n",
    "import pandas as pd\n",
    "import time\n",
    "import os"
   ]
  },
  {
   "cell_type": "code",
   "execution_count": 2,
   "metadata": {},
   "outputs": [],
   "source": [
    "def loadNLPVectors(filename):\n",
    "    file = 'nlp_data/' + filename + '.npy'\n",
    "    return np.load(file)"
   ]
  },
  {
   "cell_type": "code",
   "execution_count": 3,
   "metadata": {},
   "outputs": [],
   "source": [
    "def loadLabels():\n",
    "    return loadNLPVectors(\"labels\")"
   ]
  },
  {
   "cell_type": "code",
   "execution_count": 4,
   "metadata": {},
   "outputs": [],
   "source": [
    "from sklearn.model_selection import train_test_split\n",
    "def genData(nlp):\n",
    "    X_train, X_test, y_train, y_test = train_test_split(nlp, labels,\n",
    "                                                        test_size = 0.2,\n",
    "                                                        random_state = 42,\n",
    "                                                        shuffle = True,\n",
    "                                                        stratify = labels)\n",
    "    \n",
    "    train = [X_train, y_train]\n",
    "    test = [X_test, y_test]\n",
    "    \n",
    "    return train, test"
   ]
  },
  {
   "cell_type": "markdown",
   "metadata": {},
   "source": [
    "# Load NLP Data"
   ]
  },
  {
   "cell_type": "code",
   "execution_count": 5,
   "metadata": {},
   "outputs": [],
   "source": [
    "unigram_array = \"feature_array_unigram\"\n",
    "bigram_array = \"feature_array_bigram\"\n",
    "tfidf_array = \"feature_array_tfidf\"\n",
    "wordvec_array = \"feature_array_word2vec\"\n",
    "unigram_reduced = \"reduced_unigram\"\n",
    "bigram_reduced = \"reduced_bigram\"\n",
    "tfidf_reduced = \"reduced_tfidf\""
   ]
  },
  {
   "cell_type": "code",
   "execution_count": 6,
   "metadata": {},
   "outputs": [],
   "source": [
    "unigram = loadNLPVectors(unigram_array)\n",
    "bigram = loadNLPVectors(bigram_array)\n",
    "tfidf = loadNLPVectors(tfidf_array)\n",
    "word2vec = loadNLPVectors(wordvec_array)\n",
    "reduced_unigram = loadNLPVectors(unigram_reduced)\n",
    "reduced_bigram = loadNLPVectors(bigram_reduced)\n",
    "reduced_tfidf = loadNLPVectors(tfidf_reduced)\n",
    "labels = loadLabels()"
   ]
  },
  {
   "cell_type": "markdown",
   "metadata": {},
   "source": [
    "# Generate Training and Testing Data"
   ]
  },
  {
   "cell_type": "code",
   "execution_count": 7,
   "metadata": {},
   "outputs": [],
   "source": [
    "train_uni, test_uni = genData(unigram)"
   ]
  },
  {
   "cell_type": "code",
   "execution_count": 8,
   "metadata": {},
   "outputs": [],
   "source": [
    "train_big, test_big = genData(bigram)"
   ]
  },
  {
   "cell_type": "code",
   "execution_count": 9,
   "metadata": {},
   "outputs": [],
   "source": [
    "train_tfidf, test_tfidf = genData(tfidf)"
   ]
  },
  {
   "cell_type": "code",
   "execution_count": 10,
   "metadata": {},
   "outputs": [],
   "source": [
    "train_vec, test_vec = genData(word2vec)"
   ]
  },
  {
   "cell_type": "code",
   "execution_count": 11,
   "metadata": {},
   "outputs": [],
   "source": [
    "train_runi, test_runi = genData(reduced_unigram)"
   ]
  },
  {
   "cell_type": "code",
   "execution_count": 12,
   "metadata": {},
   "outputs": [],
   "source": [
    "train_rbig, test_rbig = genData(reduced_bigram)"
   ]
  },
  {
   "cell_type": "code",
   "execution_count": 13,
   "metadata": {},
   "outputs": [],
   "source": [
    "train_rtfidf, test_rtfidf = genData(reduced_tfidf)"
   ]
  },
  {
   "cell_type": "markdown",
   "metadata": {},
   "source": [
    "# Keras - Neural Networks"
   ]
  },
  {
   "cell_type": "code",
   "execution_count": 5,
   "metadata": {},
   "outputs": [
    {
     "name": "stdout",
     "output_type": "stream",
     "text": [
      "Limited tf.compat.v2.summary API due to missing TensorBoard installation\n",
      "Limited tf.summary API due to missing TensorBoard installation\n"
     ]
    }
   ],
   "source": [
    "from tensorflow.keras import models\n",
    "from tensorflow.keras import layers"
   ]
  },
  {
   "cell_type": "code",
   "execution_count": 6,
   "metadata": {},
   "outputs": [],
   "source": [
    "import matplotlib.pyplot as plt\n",
    "from sklearn.metrics import accuracy_score\n",
    "from sklearn.metrics import roc_auc_score\n",
    "from sklearn.metrics import f1_score\n",
    "from sklearn.metrics import precision_score\n",
    "from sklearn.metrics import recall_score"
   ]
  },
  {
   "cell_type": "code",
   "execution_count": 7,
   "metadata": {},
   "outputs": [],
   "source": [
    "def plotFigures(hist, epoch_range):\n",
    "    \n",
    "    validation_loss = hist.history['val_loss']\n",
    "    validation_acc = hist.history['val_accuracy']\n",
    "    \n",
    "    epochs = range(1, epoch_range + 1)\n",
    "    \n",
    "    f = plt.figure(1)\n",
    "    plt.title(\"Loss\")\n",
    "    plt.plot(epochs, validation_loss, 'bo')\n",
    "    plt.xlabel('Epochs')\n",
    "    plt.ylabel('Validation Loss')\n",
    "    \n",
    "    g = plt.figure(2)\n",
    "    plt.title(\"Accuracy\")\n",
    "    plt.plot(epochs, validation_acc, 'ro')\n",
    "    plt.xlabel('Epochs')\n",
    "    plt.ylabel('Validation Accuracy')\n",
    "    \n",
    "    plt.show()"
   ]
  },
  {
   "cell_type": "code",
   "execution_count": 8,
   "metadata": {},
   "outputs": [],
   "source": [
    "def evaluate(model, history, test, epoch_range, nn_name, model_name):\n",
    "    X_test = test[0]\n",
    "    y_test = test[1]\n",
    "    \n",
    "    pred_sigmoid = model.predict(X_test)\n",
    "    pred = []\n",
    "    for p in pred_sigmoid:\n",
    "        if p < .5:\n",
    "            pred.append(0)\n",
    "        else:\n",
    "            pred.append(1)\n",
    "    y_pred = np.asarray(pred)\n",
    "    \n",
    "    acc = accuracy_score(y_test, y_pred)\n",
    "    roc_auc = roc_auc_score(y_test, y_pred)\n",
    "    f = f1_score(y_test, y_pred)\n",
    "    precision = precision_score(y_test, y_pred)\n",
    "    recall = recall_score(y_test, y_pred)\n",
    "    \n",
    "    print(nn_name + ' ' + model_name + ' Evaluation: ')\n",
    "    print('Accuracy:       ', acc)\n",
    "    print('ROC AUC Score:  ', roc_auc)\n",
    "    print('F1 Score:       ', f)\n",
    "    print('Precision:      ', precision)\n",
    "    print('Recall:         ', recall)\n",
    "    \n",
    "    plotFigures(history, epoch_range)"
   ]
  },
  {
   "cell_type": "markdown",
   "metadata": {},
   "source": [
    "# Generate Sequential Neural Network"
   ]
  },
  {
   "cell_type": "code",
   "execution_count": 9,
   "metadata": {},
   "outputs": [],
   "source": [
    "def DNN(train, test, iterations = 10):\n",
    "    X_train = train[0]\n",
    "    y_train = train[1]\n",
    "    \n",
    "    X_test = test[0]\n",
    "    y_test = test[1]\n",
    "    \n",
    "    #~13000, ~80000, 500, 200, 50\n",
    "    dim = len(X_train[0])\n",
    "    \n",
    "    model = models.Sequential()\n",
    "    if dim > 15000:\n",
    "        model.add(layers.Dense(500, activation = 'relu', input_shape = (dim,)))\n",
    "        model.add(layers.Dropout(0.5))\n",
    "        model.add(layers.Dense(64, activation = 'relu'))\n",
    "        model.add(layers.Dropout(0.5))\n",
    "        model.add(layers.Dense(4, activation = 'relu'))\n",
    "    elif dim > 10000:\n",
    "        model.add(layers.Dense(200, activation = 'relu', input_shape = (dim,)))\n",
    "        model.add(layers.Dropout(0.5))\n",
    "        model.add(layers.Dense(32, activation = 'relu'))\n",
    "        model.add(layers.Dropout(0.5))\n",
    "        model.add(layers.Dense(4, activation = 'relu'))\n",
    "    elif dim == 500:\n",
    "        model.add(layers.Dense(64, activation = 'relu', input_shape = (dim,)))\n",
    "        model.add(layers.Dropout(0.5))\n",
    "        model.add(layers.Dense(16, activation = 'relu'))\n",
    "    elif dim == 200:\n",
    "        model.add(layers.Dense(32, activation = 'relu', input_shape = (dim,)))\n",
    "        model.add(layers.Dropout(0.5))\n",
    "        model.add(layers.Dense(4, activation = 'relu'))\n",
    "    elif dim == 50:\n",
    "        model.add(layers.Dense(16, activation = 'relu', input_shape = (dim,)))\n",
    "        model.add(layers.Dropout(0.5))\n",
    "        model.add(layers.Dense(4, activation = 'relu', input_shape = (dim, )))\n",
    "    model.add(layers.Dense(1, activation = 'sigmoid'))\n",
    "    \n",
    "    model.summary()\n",
    "    model.compile(loss = 'binary_crossentropy',\n",
    "                  optimizer = 'adam',\n",
    "                  metrics = ['accuracy'])\n",
    "    \n",
    "    start = time.time()\n",
    "    history = model.fit(X_train, y_train,\n",
    "                        epochs = iterations,\n",
    "                        batch_size = 128,\n",
    "                        validation_data = (X_test, y_test))\n",
    "    end = time.time() - start\n",
    "    \n",
    "    test = model.evaluate(X_test, y_test)\n",
    "    \n",
    "    print(\"Training Time:  \", end)\n",
    "    print(\"Model Loss:     \", test[0])\n",
    "    print(\"Model Accuracy: \", test[1])\n",
    "    \n",
    "    return model, history"
   ]
  },
  {
   "cell_type": "markdown",
   "metadata": {},
   "source": [
    "# Generate Convolutional Neural Network"
   ]
  },
  {
   "cell_type": "code",
   "execution_count": 26,
   "metadata": {},
   "outputs": [],
   "source": [
    "from tensorflow.keras.preprocessing.text import Tokenizer\n",
    "from tensorflow.keras.preprocessing.sequence import pad_sequences\n",
    "from tensorflow.keras.utils import to_categorical\n",
    "from sklearn.preprocessing import LabelEncoder"
   ]
  },
  {
   "cell_type": "code",
   "execution_count": 27,
   "metadata": {},
   "outputs": [],
   "source": [
    "def loadCSV(filename):\n",
    "    file = filename\n",
    "    if '.csv' not in filename:\n",
    "        file += '.csv'\n",
    "    data = pd.read_csv(file, encoding = 'ISO-8859-1')\n",
    "    return data"
   ]
  },
  {
   "cell_type": "code",
   "execution_count": 30,
   "metadata": {},
   "outputs": [],
   "source": [
    "data = loadCSV(\"binary_classification\")\n",
    "tokenizer = Tokenizer()"
   ]
  },
  {
   "cell_type": "code",
   "execution_count": 31,
   "metadata": {},
   "outputs": [],
   "source": [
    "X = [x for x in data[\"tweet_text\"]]\n",
    "tokenizer.fit_on_texts(X)"
   ]
  },
  {
   "cell_type": "code",
   "execution_count": 36,
   "metadata": {},
   "outputs": [
    {
     "name": "stdout",
     "output_type": "stream",
     "text": [
      "13396 Unique Tokens\n"
     ]
    }
   ],
   "source": [
    "train_sequences = tokenizer.texts_to_sequences(X)\n",
    "word_index = tokenizer.word_index\n",
    "print(\"%s Unique Tokens\" % len(word_index))"
   ]
  },
  {
   "cell_type": "code",
   "execution_count": 38,
   "metadata": {},
   "outputs": [
    {
     "name": "stdout",
     "output_type": "stream",
     "text": [
      "Max Sequence Length: 129\n"
     ]
    }
   ],
   "source": [
    "max_input_len = max([len(x) for x in X])\n",
    "print(\"Max Sequence Length: %s\" % max_input_len)"
   ]
  },
  {
   "cell_type": "code",
   "execution_count": null,
   "metadata": {},
   "outputs": [],
   "source": [
    "X_padded = []"
   ]
  },
  {
   "cell_type": "code",
   "execution_count": 19,
   "metadata": {},
   "outputs": [],
   "source": [
    "def CNN(train, test, iterations = 10):\n",
    "    return"
   ]
  },
  {
   "cell_type": "markdown",
   "metadata": {},
   "source": [
    "# Generate Recurrent Neural Network"
   ]
  },
  {
   "cell_type": "code",
   "execution_count": 20,
   "metadata": {},
   "outputs": [],
   "source": [
    "def RNN(train, test, iterations = 10):\n",
    "    return"
   ]
  },
  {
   "cell_type": "markdown",
   "metadata": {},
   "source": [
    "# Training Deep Neural Networks"
   ]
  },
  {
   "cell_type": "markdown",
   "metadata": {},
   "source": [
    "### DNN Reduced Unigram"
   ]
  },
  {
   "cell_type": "code",
   "execution_count": 21,
   "metadata": {},
   "outputs": [
    {
     "name": "stdout",
     "output_type": "stream",
     "text": [
      "Model: \"sequential\"\n",
      "_________________________________________________________________\n",
      "Layer (type)                 Output Shape              Param #   \n",
      "=================================================================\n",
      "dense (Dense)                (None, 32)                6432      \n",
      "_________________________________________________________________\n",
      "dropout (Dropout)            (None, 32)                0         \n",
      "_________________________________________________________________\n",
      "dense_1 (Dense)              (None, 4)                 132       \n",
      "_________________________________________________________________\n",
      "dense_2 (Dense)              (None, 1)                 5         \n",
      "=================================================================\n",
      "Total params: 6,569\n",
      "Trainable params: 6,569\n",
      "Non-trainable params: 0\n",
      "_________________________________________________________________\n",
      "Train on 10404 samples, validate on 2601 samples\n",
      "Epoch 1/50\n",
      "10404/10404 [==============================] - 1s 76us/sample - loss: 0.6722 - accuracy: 0.6139 - val_loss: 0.6359 - val_accuracy: 0.7470\n",
      "Epoch 2/50\n",
      "10404/10404 [==============================] - 0s 23us/sample - loss: 0.5734 - accuracy: 0.7789 - val_loss: 0.4886 - val_accuracy: 0.8574\n",
      "Epoch 3/50\n",
      "10404/10404 [==============================] - 0s 28us/sample - loss: 0.4288 - accuracy: 0.8612 - val_loss: 0.3480 - val_accuracy: 0.8970\n",
      "Epoch 4/50\n",
      "10404/10404 [==============================] - 0s 20us/sample - loss: 0.3351 - accuracy: 0.8818 - val_loss: 0.2841 - val_accuracy: 0.9070\n",
      "Epoch 5/50\n",
      "10404/10404 [==============================] - 0s 28us/sample - loss: 0.2875 - accuracy: 0.9009 - val_loss: 0.2606 - val_accuracy: 0.9093\n",
      "Epoch 6/50\n",
      "10404/10404 [==============================] - 0s 22us/sample - loss: 0.2652 - accuracy: 0.9072 - val_loss: 0.2491 - val_accuracy: 0.9093\n",
      "Epoch 7/50\n",
      "10404/10404 [==============================] - 0s 29us/sample - loss: 0.2502 - accuracy: 0.9093 - val_loss: 0.2446 - val_accuracy: 0.9097\n",
      "Epoch 8/50\n",
      "10404/10404 [==============================] - 0s 20us/sample - loss: 0.2406 - accuracy: 0.9136 - val_loss: 0.2416 - val_accuracy: 0.9116\n",
      "Epoch 9/50\n",
      "10404/10404 [==============================] - 0s 26us/sample - loss: 0.2300 - accuracy: 0.9166 - val_loss: 0.2382 - val_accuracy: 0.9116\n",
      "Epoch 10/50\n",
      "10404/10404 [==============================] - 0s 21us/sample - loss: 0.2307 - accuracy: 0.9193 - val_loss: 0.2379 - val_accuracy: 0.9108\n",
      "Epoch 11/50\n",
      "10404/10404 [==============================] - 0s 31us/sample - loss: 0.2232 - accuracy: 0.9185 - val_loss: 0.2366 - val_accuracy: 0.9120\n",
      "Epoch 12/50\n",
      "10404/10404 [==============================] - 0s 21us/sample - loss: 0.2203 - accuracy: 0.9177 - val_loss: 0.2357 - val_accuracy: 0.9120\n",
      "Epoch 13/50\n",
      "10404/10404 [==============================] - 0s 28us/sample - loss: 0.2187 - accuracy: 0.9199 - val_loss: 0.2346 - val_accuracy: 0.9143\n",
      "Epoch 14/50\n",
      "10404/10404 [==============================] - 0s 26us/sample - loss: 0.2148 - accuracy: 0.9208 - val_loss: 0.2332 - val_accuracy: 0.9139\n",
      "Epoch 15/50\n",
      "10404/10404 [==============================] - 0s 31us/sample - loss: 0.2126 - accuracy: 0.9208 - val_loss: 0.2336 - val_accuracy: 0.9143\n",
      "Epoch 16/50\n",
      "10404/10404 [==============================] - 0s 23us/sample - loss: 0.2090 - accuracy: 0.9244 - val_loss: 0.2327 - val_accuracy: 0.9146\n",
      "Epoch 17/50\n",
      "10404/10404 [==============================] - 0s 25us/sample - loss: 0.2057 - accuracy: 0.9244 - val_loss: 0.2338 - val_accuracy: 0.9127\n",
      "Epoch 18/50\n",
      "10404/10404 [==============================] - 0s 34us/sample - loss: 0.2067 - accuracy: 0.9232 - val_loss: 0.2336 - val_accuracy: 0.9131\n",
      "Epoch 19/50\n",
      "10404/10404 [==============================] - 0s 24us/sample - loss: 0.2009 - accuracy: 0.9265 - val_loss: 0.2341 - val_accuracy: 0.9131\n",
      "Epoch 20/50\n",
      "10404/10404 [==============================] - 0s 28us/sample - loss: 0.2001 - accuracy: 0.9271 - val_loss: 0.2340 - val_accuracy: 0.9139\n",
      "Epoch 21/50\n",
      "10404/10404 [==============================] - 0s 23us/sample - loss: 0.1975 - accuracy: 0.9261 - val_loss: 0.2360 - val_accuracy: 0.9146\n",
      "Epoch 22/50\n",
      "10404/10404 [==============================] - 0s 22us/sample - loss: 0.1986 - accuracy: 0.9273 - val_loss: 0.2356 - val_accuracy: 0.9127\n",
      "Epoch 23/50\n",
      "10404/10404 [==============================] - 0s 24us/sample - loss: 0.1952 - accuracy: 0.9291 - val_loss: 0.2349 - val_accuracy: 0.9127\n",
      "Epoch 24/50\n",
      "10404/10404 [==============================] - 0s 24us/sample - loss: 0.1936 - accuracy: 0.9291 - val_loss: 0.2356 - val_accuracy: 0.9135\n",
      "Epoch 25/50\n",
      "10404/10404 [==============================] - 0s 26us/sample - loss: 0.1920 - accuracy: 0.9314 - val_loss: 0.2367 - val_accuracy: 0.9135\n",
      "Epoch 26/50\n",
      "10404/10404 [==============================] - 0s 26us/sample - loss: 0.1889 - accuracy: 0.9303 - val_loss: 0.2357 - val_accuracy: 0.9139\n",
      "Epoch 27/50\n",
      "10404/10404 [==============================] - 0s 32us/sample - loss: 0.1886 - accuracy: 0.9308 - val_loss: 0.2376 - val_accuracy: 0.9146\n",
      "Epoch 28/50\n",
      "10404/10404 [==============================] - 0s 22us/sample - loss: 0.1906 - accuracy: 0.9308 - val_loss: 0.2381 - val_accuracy: 0.9116\n",
      "Epoch 29/50\n",
      "10404/10404 [==============================] - 0s 31us/sample - loss: 0.1837 - accuracy: 0.9327 - val_loss: 0.2375 - val_accuracy: 0.9139\n",
      "Epoch 30/50\n",
      "10404/10404 [==============================] - 0s 29us/sample - loss: 0.1830 - accuracy: 0.9326 - val_loss: 0.2386 - val_accuracy: 0.9143\n",
      "Epoch 31/50\n",
      "10404/10404 [==============================] - 0s 32us/sample - loss: 0.1855 - accuracy: 0.9320 - val_loss: 0.2379 - val_accuracy: 0.9135\n",
      "Epoch 32/50\n",
      "10404/10404 [==============================] - 0s 33us/sample - loss: 0.1836 - accuracy: 0.9327 - val_loss: 0.2398 - val_accuracy: 0.9154\n",
      "Epoch 33/50\n",
      "10404/10404 [==============================] - 0s 21us/sample - loss: 0.1813 - accuracy: 0.9302 - val_loss: 0.2399 - val_accuracy: 0.9139\n",
      "Epoch 34/50\n",
      "10404/10404 [==============================] - 0s 17us/sample - loss: 0.1758 - accuracy: 0.9354 - val_loss: 0.2407 - val_accuracy: 0.9127\n",
      "Epoch 35/50\n",
      "10404/10404 [==============================] - 0s 37us/sample - loss: 0.1789 - accuracy: 0.9336 - val_loss: 0.2397 - val_accuracy: 0.9173\n",
      "Epoch 36/50\n",
      "10404/10404 [==============================] - 0s 21us/sample - loss: 0.1739 - accuracy: 0.9351 - val_loss: 0.2428 - val_accuracy: 0.9173\n",
      "Epoch 37/50\n",
      "10404/10404 [==============================] - 0s 43us/sample - loss: 0.1733 - accuracy: 0.9344 - val_loss: 0.2430 - val_accuracy: 0.9150\n",
      "Epoch 38/50\n",
      "10404/10404 [==============================] - 0s 34us/sample - loss: 0.1719 - accuracy: 0.9360 - val_loss: 0.2421 - val_accuracy: 0.9177\n",
      "Epoch 39/50\n",
      "10404/10404 [==============================] - 0s 19us/sample - loss: 0.1723 - accuracy: 0.9343 - val_loss: 0.2420 - val_accuracy: 0.9154\n",
      "Epoch 40/50\n",
      "10404/10404 [==============================] - 0s 21us/sample - loss: 0.1733 - accuracy: 0.9335 - val_loss: 0.2440 - val_accuracy: 0.9154\n",
      "Epoch 41/50\n",
      "10404/10404 [==============================] - 0s 27us/sample - loss: 0.1700 - accuracy: 0.9360 - val_loss: 0.2414 - val_accuracy: 0.9139\n",
      "Epoch 42/50\n",
      "10404/10404 [==============================] - 0s 25us/sample - loss: 0.1676 - accuracy: 0.9375 - val_loss: 0.2429 - val_accuracy: 0.9162\n",
      "Epoch 43/50\n",
      "10404/10404 [==============================] - 0s 31us/sample - loss: 0.1691 - accuracy: 0.9369 - val_loss: 0.2428 - val_accuracy: 0.9146\n",
      "Epoch 44/50\n",
      "10404/10404 [==============================] - 0s 33us/sample - loss: 0.1664 - accuracy: 0.9395 - val_loss: 0.2447 - val_accuracy: 0.9150\n",
      "Epoch 45/50\n",
      "10404/10404 [==============================] - 0s 40us/sample - loss: 0.1651 - accuracy: 0.9390 - val_loss: 0.2445 - val_accuracy: 0.9170\n",
      "Epoch 46/50\n",
      "10404/10404 [==============================] - 0s 31us/sample - loss: 0.1686 - accuracy: 0.9354 - val_loss: 0.2436 - val_accuracy: 0.9146\n",
      "Epoch 47/50\n",
      "10404/10404 [==============================] - 0s 26us/sample - loss: 0.1649 - accuracy: 0.9400 - val_loss: 0.2434 - val_accuracy: 0.9166\n",
      "Epoch 48/50\n",
      "10404/10404 [==============================] - 0s 30us/sample - loss: 0.1618 - accuracy: 0.9401 - val_loss: 0.2458 - val_accuracy: 0.9150\n",
      "Epoch 49/50\n",
      "10404/10404 [==============================] - 0s 31us/sample - loss: 0.1633 - accuracy: 0.9405 - val_loss: 0.2457 - val_accuracy: 0.9146\n",
      "Epoch 50/50\n",
      "10404/10404 [==============================] - 0s 30us/sample - loss: 0.1641 - accuracy: 0.9383 - val_loss: 0.2478 - val_accuracy: 0.9146\n",
      "2601/2601 [==============================] - 0s 50us/sample - loss: 0.2478 - accuracy: 0.9146\n",
      "Training Time:   15.52746319770813\n",
      "Model Loss:      0.24778312363621363\n",
      "Model Accuracy:  0.91464823\n"
     ]
    }
   ],
   "source": [
    "epoch_runi = 50\n",
    "dnn_runi, dnn_runi_history = DNN(train_runi, test_runi, epoch_runi)"
   ]
  },
  {
   "cell_type": "markdown",
   "metadata": {},
   "source": [
    "### DNN Reduced Bigram"
   ]
  },
  {
   "cell_type": "code",
   "execution_count": 22,
   "metadata": {},
   "outputs": [
    {
     "name": "stdout",
     "output_type": "stream",
     "text": [
      "Model: \"sequential_1\"\n",
      "_________________________________________________________________\n",
      "Layer (type)                 Output Shape              Param #   \n",
      "=================================================================\n",
      "dense_3 (Dense)              (None, 64)                32064     \n",
      "_________________________________________________________________\n",
      "dropout_1 (Dropout)          (None, 64)                0         \n",
      "_________________________________________________________________\n",
      "dense_4 (Dense)              (None, 16)                1040      \n",
      "_________________________________________________________________\n",
      "dense_5 (Dense)              (None, 1)                 17        \n",
      "=================================================================\n",
      "Total params: 33,121\n",
      "Trainable params: 33,121\n",
      "Non-trainable params: 0\n",
      "_________________________________________________________________\n",
      "Train on 10404 samples, validate on 2601 samples\n",
      "Epoch 1/20\n",
      "10404/10404 [==============================] - 1s 69us/sample - loss: 0.6283 - accuracy: 0.6994 - val_loss: 0.4925 - val_accuracy: 0.8654\n",
      "Epoch 2/20\n",
      "10404/10404 [==============================] - 0s 27us/sample - loss: 0.3673 - accuracy: 0.8747 - val_loss: 0.2786 - val_accuracy: 0.9004\n",
      "Epoch 3/20\n",
      "10404/10404 [==============================] - 0s 36us/sample - loss: 0.2529 - accuracy: 0.9101 - val_loss: 0.2496 - val_accuracy: 0.9108\n",
      "Epoch 4/20\n",
      "10404/10404 [==============================] - 0s 32us/sample - loss: 0.2171 - accuracy: 0.9231 - val_loss: 0.2391 - val_accuracy: 0.9135\n",
      "Epoch 5/20\n",
      "10404/10404 [==============================] - 0s 27us/sample - loss: 0.1984 - accuracy: 0.9310 - val_loss: 0.2403 - val_accuracy: 0.9100\n",
      "Epoch 6/20\n",
      "10404/10404 [==============================] - 0s 30us/sample - loss: 0.1868 - accuracy: 0.9324 - val_loss: 0.2367 - val_accuracy: 0.9104\n",
      "Epoch 7/20\n",
      "10404/10404 [==============================] - 0s 31us/sample - loss: 0.1700 - accuracy: 0.9378 - val_loss: 0.2393 - val_accuracy: 0.9108\n",
      "Epoch 8/20\n",
      "10404/10404 [==============================] - 0s 35us/sample - loss: 0.1642 - accuracy: 0.9411 - val_loss: 0.2400 - val_accuracy: 0.9100\n",
      "Epoch 9/20\n",
      "10404/10404 [==============================] - 0s 47us/sample - loss: 0.1579 - accuracy: 0.9418 - val_loss: 0.2448 - val_accuracy: 0.9085\n",
      "Epoch 10/20\n",
      "10404/10404 [==============================] - 0s 38us/sample - loss: 0.1476 - accuracy: 0.9472 - val_loss: 0.2489 - val_accuracy: 0.9108\n",
      "Epoch 11/20\n",
      "10404/10404 [==============================] - 0s 45us/sample - loss: 0.1423 - accuracy: 0.9458 - val_loss: 0.2501 - val_accuracy: 0.9104\n",
      "Epoch 12/20\n",
      "10404/10404 [==============================] - 0s 33us/sample - loss: 0.1396 - accuracy: 0.9484 - val_loss: 0.2503 - val_accuracy: 0.9100\n",
      "Epoch 13/20\n",
      "10404/10404 [==============================] - 0s 21us/sample - loss: 0.1329 - accuracy: 0.9537 - val_loss: 0.2546 - val_accuracy: 0.9127\n",
      "Epoch 14/20\n",
      "10404/10404 [==============================] - 0s 33us/sample - loss: 0.1287 - accuracy: 0.9520 - val_loss: 0.2565 - val_accuracy: 0.9116\n",
      "Epoch 15/20\n",
      "10404/10404 [==============================] - 0s 48us/sample - loss: 0.1188 - accuracy: 0.9585 - val_loss: 0.2632 - val_accuracy: 0.9116\n",
      "Epoch 16/20\n",
      "10404/10404 [==============================] - 0s 33us/sample - loss: 0.1170 - accuracy: 0.9589 - val_loss: 0.2688 - val_accuracy: 0.9120\n",
      "Epoch 17/20\n",
      "10404/10404 [==============================] - 0s 47us/sample - loss: 0.1175 - accuracy: 0.9560 - val_loss: 0.2693 - val_accuracy: 0.9123\n",
      "Epoch 18/20\n",
      "10404/10404 [==============================] - 0s 39us/sample - loss: 0.1067 - accuracy: 0.9626 - val_loss: 0.2724 - val_accuracy: 0.9108\n",
      "Epoch 19/20\n",
      "10404/10404 [==============================] - 0s 38us/sample - loss: 0.1053 - accuracy: 0.9611 - val_loss: 0.2810 - val_accuracy: 0.9123\n",
      "Epoch 20/20\n",
      "10404/10404 [==============================] - 0s 32us/sample - loss: 0.1036 - accuracy: 0.9633 - val_loss: 0.2828 - val_accuracy: 0.9104\n",
      "2601/2601 [==============================] - 0s 60us/sample - loss: 0.2828 - accuracy: 0.9104\n",
      "Training Time:   8.654809951782227\n",
      "Model Loss:      0.282759472481428\n",
      "Model Accuracy:  0.91041905\n"
     ]
    }
   ],
   "source": [
    "epoch_rbig = 20\n",
    "dnn_rbig, dnn_rbig_history = DNN(train_rbig, test_rbig, epoch_rbig)"
   ]
  },
  {
   "cell_type": "markdown",
   "metadata": {},
   "source": [
    "### DNN Reduced TFIDF"
   ]
  },
  {
   "cell_type": "code",
   "execution_count": 23,
   "metadata": {},
   "outputs": [
    {
     "name": "stdout",
     "output_type": "stream",
     "text": [
      "Model: \"sequential_2\"\n",
      "_________________________________________________________________\n",
      "Layer (type)                 Output Shape              Param #   \n",
      "=================================================================\n",
      "dense_6 (Dense)              (None, 32)                6432      \n",
      "_________________________________________________________________\n",
      "dropout_2 (Dropout)          (None, 32)                0         \n",
      "_________________________________________________________________\n",
      "dense_7 (Dense)              (None, 4)                 132       \n",
      "_________________________________________________________________\n",
      "dense_8 (Dense)              (None, 1)                 5         \n",
      "=================================================================\n",
      "Total params: 6,569\n",
      "Trainable params: 6,569\n",
      "Non-trainable params: 0\n",
      "_________________________________________________________________\n",
      "Train on 10404 samples, validate on 2601 samples\n",
      "Epoch 1/50\n",
      "10404/10404 [==============================] - 1s 55us/sample - loss: 0.6820 - accuracy: 0.5705 - val_loss: 0.6554 - val_accuracy: 0.7140\n",
      "Epoch 2/50\n",
      "10404/10404 [==============================] - 0s 24us/sample - loss: 0.6087 - accuracy: 0.7483 - val_loss: 0.5430 - val_accuracy: 0.8301\n",
      "Epoch 3/50\n",
      "10404/10404 [==============================] - 0s 25us/sample - loss: 0.4880 - accuracy: 0.8260 - val_loss: 0.4193 - val_accuracy: 0.8593\n",
      "Epoch 4/50\n",
      "10404/10404 [==============================] - 0s 21us/sample - loss: 0.3914 - accuracy: 0.8578 - val_loss: 0.3438 - val_accuracy: 0.8870\n",
      "Epoch 5/50\n",
      "10404/10404 [==============================] - 0s 21us/sample - loss: 0.3340 - accuracy: 0.8771 - val_loss: 0.3049 - val_accuracy: 0.8923\n",
      "Epoch 6/50\n",
      "10404/10404 [==============================] - 0s 27us/sample - loss: 0.3013 - accuracy: 0.8883 - val_loss: 0.2824 - val_accuracy: 0.8985\n",
      "Epoch 7/50\n",
      "10404/10404 [==============================] - 0s 22us/sample - loss: 0.2787 - accuracy: 0.9007 - val_loss: 0.2677 - val_accuracy: 0.9012\n",
      "Epoch 8/50\n",
      "10404/10404 [==============================] - 0s 22us/sample - loss: 0.2648 - accuracy: 0.9046 - val_loss: 0.2593 - val_accuracy: 0.9039\n",
      "Epoch 9/50\n",
      "10404/10404 [==============================] - 0s 24us/sample - loss: 0.2492 - accuracy: 0.9100 - val_loss: 0.2498 - val_accuracy: 0.9085\n",
      "Epoch 10/50\n",
      "10404/10404 [==============================] - 0s 25us/sample - loss: 0.2428 - accuracy: 0.9122 - val_loss: 0.2460 - val_accuracy: 0.9104\n",
      "Epoch 11/50\n",
      "10404/10404 [==============================] - 0s 26us/sample - loss: 0.2334 - accuracy: 0.9172 - val_loss: 0.2427 - val_accuracy: 0.9112\n",
      "Epoch 12/50\n",
      "10404/10404 [==============================] - 0s 24us/sample - loss: 0.2316 - accuracy: 0.9192 - val_loss: 0.2398 - val_accuracy: 0.9139\n",
      "Epoch 13/50\n",
      "10404/10404 [==============================] - 0s 23us/sample - loss: 0.2245 - accuracy: 0.9194 - val_loss: 0.2366 - val_accuracy: 0.9146\n",
      "Epoch 14/50\n",
      "10404/10404 [==============================] - 0s 32us/sample - loss: 0.2231 - accuracy: 0.9195 - val_loss: 0.2363 - val_accuracy: 0.9135\n",
      "Epoch 15/50\n",
      "10404/10404 [==============================] - 0s 25us/sample - loss: 0.2134 - accuracy: 0.9239 - val_loss: 0.2326 - val_accuracy: 0.9154\n",
      "Epoch 16/50\n",
      "10404/10404 [==============================] - 0s 25us/sample - loss: 0.2119 - accuracy: 0.9252 - val_loss: 0.2311 - val_accuracy: 0.9170\n",
      "Epoch 17/50\n",
      "10404/10404 [==============================] - 0s 26us/sample - loss: 0.2126 - accuracy: 0.9243 - val_loss: 0.2317 - val_accuracy: 0.9162\n",
      "Epoch 18/50\n",
      "10404/10404 [==============================] - 0s 24us/sample - loss: 0.2112 - accuracy: 0.9244 - val_loss: 0.2315 - val_accuracy: 0.9162\n",
      "Epoch 19/50\n",
      "10404/10404 [==============================] - 0s 32us/sample - loss: 0.2107 - accuracy: 0.9265 - val_loss: 0.2314 - val_accuracy: 0.9166\n",
      "Epoch 20/50\n",
      "10404/10404 [==============================] - 0s 21us/sample - loss: 0.1983 - accuracy: 0.9285 - val_loss: 0.2308 - val_accuracy: 0.9170\n",
      "Epoch 21/50\n",
      "10404/10404 [==============================] - 0s 25us/sample - loss: 0.2024 - accuracy: 0.9280 - val_loss: 0.2307 - val_accuracy: 0.9166\n",
      "Epoch 22/50\n",
      "10404/10404 [==============================] - 0s 28us/sample - loss: 0.2012 - accuracy: 0.9292 - val_loss: 0.2308 - val_accuracy: 0.9189\n",
      "Epoch 23/50\n",
      "10404/10404 [==============================] - 0s 35us/sample - loss: 0.1950 - accuracy: 0.9299 - val_loss: 0.2301 - val_accuracy: 0.9193\n",
      "Epoch 24/50\n",
      "10404/10404 [==============================] - 0s 28us/sample - loss: 0.1954 - accuracy: 0.9310 - val_loss: 0.2307 - val_accuracy: 0.9181\n",
      "Epoch 25/50\n",
      "10404/10404 [==============================] - 0s 32us/sample - loss: 0.1975 - accuracy: 0.9270 - val_loss: 0.2293 - val_accuracy: 0.9196\n",
      "Epoch 26/50\n",
      "10404/10404 [==============================] - 0s 28us/sample - loss: 0.1919 - accuracy: 0.9324 - val_loss: 0.2309 - val_accuracy: 0.9189\n",
      "Epoch 27/50\n",
      "10404/10404 [==============================] - 0s 28us/sample - loss: 0.1908 - accuracy: 0.9309 - val_loss: 0.2296 - val_accuracy: 0.9208\n",
      "Epoch 28/50\n",
      "10404/10404 [==============================] - 0s 26us/sample - loss: 0.1918 - accuracy: 0.9314 - val_loss: 0.2318 - val_accuracy: 0.9181\n",
      "Epoch 29/50\n",
      "10404/10404 [==============================] - 0s 22us/sample - loss: 0.1900 - accuracy: 0.9324 - val_loss: 0.2320 - val_accuracy: 0.9181\n",
      "Epoch 30/50\n",
      "10404/10404 [==============================] - 0s 23us/sample - loss: 0.1851 - accuracy: 0.9321 - val_loss: 0.2323 - val_accuracy: 0.9162\n",
      "Epoch 31/50\n",
      "10404/10404 [==============================] - 0s 24us/sample - loss: 0.1873 - accuracy: 0.9306 - val_loss: 0.2326 - val_accuracy: 0.9177\n",
      "Epoch 32/50\n",
      "10404/10404 [==============================] - 0s 32us/sample - loss: 0.1865 - accuracy: 0.9341 - val_loss: 0.2333 - val_accuracy: 0.9181\n",
      "Epoch 33/50\n",
      "10404/10404 [==============================] - 0s 24us/sample - loss: 0.1828 - accuracy: 0.9344 - val_loss: 0.2340 - val_accuracy: 0.9170\n",
      "Epoch 34/50\n",
      "10404/10404 [==============================] - 0s 38us/sample - loss: 0.1817 - accuracy: 0.9343 - val_loss: 0.2326 - val_accuracy: 0.9170\n",
      "Epoch 35/50\n",
      "10404/10404 [==============================] - 0s 29us/sample - loss: 0.1837 - accuracy: 0.9346 - val_loss: 0.2324 - val_accuracy: 0.9173\n",
      "Epoch 36/50\n",
      "10404/10404 [==============================] - 0s 34us/sample - loss: 0.1796 - accuracy: 0.9366 - val_loss: 0.2328 - val_accuracy: 0.9185\n",
      "Epoch 37/50\n",
      "10404/10404 [==============================] - 1s 48us/sample - loss: 0.1819 - accuracy: 0.9344 - val_loss: 0.2359 - val_accuracy: 0.9173\n",
      "Epoch 38/50\n",
      "10404/10404 [==============================] - 0s 29us/sample - loss: 0.1812 - accuracy: 0.9351 - val_loss: 0.2338 - val_accuracy: 0.9166\n",
      "Epoch 39/50\n",
      "10404/10404 [==============================] - 0s 24us/sample - loss: 0.1785 - accuracy: 0.9375 - val_loss: 0.2360 - val_accuracy: 0.9181\n",
      "Epoch 40/50\n",
      "10404/10404 [==============================] - 0s 31us/sample - loss: 0.1760 - accuracy: 0.9366 - val_loss: 0.2358 - val_accuracy: 0.9177\n",
      "Epoch 41/50\n",
      "10404/10404 [==============================] - 0s 31us/sample - loss: 0.1730 - accuracy: 0.9372 - val_loss: 0.2348 - val_accuracy: 0.9166\n",
      "Epoch 42/50\n",
      "10404/10404 [==============================] - 0s 28us/sample - loss: 0.1749 - accuracy: 0.9376 - val_loss: 0.2363 - val_accuracy: 0.9173\n",
      "Epoch 43/50\n",
      "10404/10404 [==============================] - ETA: 0s - loss: 0.1723 - accuracy: 0.93 - 0s 34us/sample - loss: 0.1725 - accuracy: 0.9394 - val_loss: 0.2356 - val_accuracy: 0.9170\n",
      "Epoch 44/50\n",
      "10404/10404 [==============================] - 0s 33us/sample - loss: 0.1724 - accuracy: 0.9380 - val_loss: 0.2367 - val_accuracy: 0.9177\n",
      "Epoch 45/50\n",
      "10404/10404 [==============================] - 0s 24us/sample - loss: 0.1685 - accuracy: 0.9374 - val_loss: 0.2379 - val_accuracy: 0.9170\n",
      "Epoch 46/50\n",
      "10404/10404 [==============================] - 0s 37us/sample - loss: 0.1713 - accuracy: 0.9396 - val_loss: 0.2387 - val_accuracy: 0.9170\n",
      "Epoch 47/50\n",
      "10404/10404 [==============================] - 0s 32us/sample - loss: 0.1719 - accuracy: 0.9384 - val_loss: 0.2374 - val_accuracy: 0.9154\n",
      "Epoch 48/50\n",
      "10404/10404 [==============================] - 0s 30us/sample - loss: 0.1694 - accuracy: 0.9400 - val_loss: 0.2406 - val_accuracy: 0.9166\n",
      "Epoch 49/50\n",
      "10404/10404 [==============================] - 0s 22us/sample - loss: 0.1681 - accuracy: 0.9388 - val_loss: 0.2375 - val_accuracy: 0.9166\n",
      "Epoch 50/50\n",
      "10404/10404 [==============================] - 0s 26us/sample - loss: 0.1697 - accuracy: 0.9392 - val_loss: 0.2408 - val_accuracy: 0.9162\n",
      "2601/2601 [==============================] - 0s 52us/sample - loss: 0.2408 - accuracy: 0.9162\n",
      "Training Time:   15.496531963348389\n",
      "Model Loss:      0.2408147926045949\n",
      "Model Accuracy:  0.9161861\n"
     ]
    }
   ],
   "source": [
    "epoch_rtfidf = 50\n",
    "dnn_rtfidf, dnn_rtfidf_history = DNN(train_rtfidf, test_rtfidf, epoch_rtfidf)"
   ]
  },
  {
   "cell_type": "markdown",
   "metadata": {},
   "source": [
    "### DNN Word2Vec"
   ]
  },
  {
   "cell_type": "code",
   "execution_count": 24,
   "metadata": {},
   "outputs": [
    {
     "name": "stdout",
     "output_type": "stream",
     "text": [
      "Model: \"sequential_3\"\n",
      "_________________________________________________________________\n",
      "Layer (type)                 Output Shape              Param #   \n",
      "=================================================================\n",
      "dense_9 (Dense)              (None, 16)                816       \n",
      "_________________________________________________________________\n",
      "dropout_3 (Dropout)          (None, 16)                0         \n",
      "_________________________________________________________________\n",
      "dense_10 (Dense)             (None, 4)                 68        \n",
      "_________________________________________________________________\n",
      "dense_11 (Dense)             (None, 1)                 5         \n",
      "=================================================================\n",
      "Total params: 889\n",
      "Trainable params: 889\n",
      "Non-trainable params: 0\n",
      "_________________________________________________________________\n",
      "Train on 10404 samples, validate on 2601 samples\n",
      "Epoch 1/50\n",
      "10404/10404 [==============================] - 1s 68us/sample - loss: 0.6930 - accuracy: 0.5126 - val_loss: 0.6929 - val_accuracy: 0.5129\n",
      "Epoch 2/50\n",
      "10404/10404 [==============================] - 0s 24us/sample - loss: 0.6928 - accuracy: 0.5129 - val_loss: 0.6929 - val_accuracy: 0.5129\n",
      "Epoch 3/50\n",
      "10404/10404 [==============================] - 0s 21us/sample - loss: 0.6927 - accuracy: 0.5129 - val_loss: 0.6929 - val_accuracy: 0.5129\n",
      "Epoch 4/50\n",
      "10404/10404 [==============================] - 0s 19us/sample - loss: 0.6927 - accuracy: 0.5129 - val_loss: 0.6929 - val_accuracy: 0.5129\n",
      "Epoch 5/50\n",
      "10404/10404 [==============================] - 0s 21us/sample - loss: 0.6928 - accuracy: 0.5129 - val_loss: 0.6929 - val_accuracy: 0.5129\n",
      "Epoch 6/50\n",
      "10404/10404 [==============================] - 0s 17us/sample - loss: 0.6927 - accuracy: 0.5129 - val_loss: 0.6929 - val_accuracy: 0.5129\n",
      "Epoch 7/50\n",
      "10404/10404 [==============================] - 0s 20us/sample - loss: 0.6927 - accuracy: 0.5129 - val_loss: 0.6929 - val_accuracy: 0.5129\n",
      "Epoch 8/50\n",
      "10404/10404 [==============================] - 0s 28us/sample - loss: 0.6926 - accuracy: 0.5127 - val_loss: 0.6930 - val_accuracy: 0.5129\n",
      "Epoch 9/50\n",
      "10404/10404 [==============================] - 0s 29us/sample - loss: 0.6925 - accuracy: 0.5129 - val_loss: 0.6930 - val_accuracy: 0.5129\n",
      "Epoch 10/50\n",
      "10404/10404 [==============================] - 0s 21us/sample - loss: 0.6926 - accuracy: 0.5129 - val_loss: 0.6930 - val_accuracy: 0.5129\n",
      "Epoch 11/50\n",
      "10404/10404 [==============================] - 0s 20us/sample - loss: 0.6926 - accuracy: 0.5129 - val_loss: 0.6930 - val_accuracy: 0.5129\n",
      "Epoch 12/50\n",
      "10404/10404 [==============================] - 0s 25us/sample - loss: 0.6923 - accuracy: 0.5130 - val_loss: 0.6929 - val_accuracy: 0.5129\n",
      "Epoch 13/50\n",
      "10404/10404 [==============================] - 0s 20us/sample - loss: 0.6926 - accuracy: 0.5123 - val_loss: 0.6930 - val_accuracy: 0.5129\n",
      "Epoch 14/50\n",
      "10404/10404 [==============================] - 0s 20us/sample - loss: 0.6925 - accuracy: 0.5129 - val_loss: 0.6930 - val_accuracy: 0.5129\n",
      "Epoch 15/50\n",
      "10404/10404 [==============================] - 0s 23us/sample - loss: 0.6925 - accuracy: 0.5129 - val_loss: 0.6931 - val_accuracy: 0.5129\n",
      "Epoch 16/50\n",
      "10404/10404 [==============================] - 0s 27us/sample - loss: 0.6922 - accuracy: 0.5130 - val_loss: 0.6931 - val_accuracy: 0.5129\n",
      "Epoch 17/50\n",
      "10404/10404 [==============================] - 0s 19us/sample - loss: 0.6922 - accuracy: 0.5136 - val_loss: 0.6930 - val_accuracy: 0.5129\n",
      "Epoch 18/50\n",
      "10404/10404 [==============================] - 0s 17us/sample - loss: 0.6922 - accuracy: 0.5127 - val_loss: 0.6931 - val_accuracy: 0.5129\n",
      "Epoch 19/50\n",
      "10404/10404 [==============================] - 0s 17us/sample - loss: 0.6921 - accuracy: 0.5186 - val_loss: 0.6931 - val_accuracy: 0.5133\n",
      "Epoch 20/50\n",
      "10404/10404 [==============================] - 0s 22us/sample - loss: 0.6923 - accuracy: 0.5131 - val_loss: 0.6931 - val_accuracy: 0.5129\n",
      "Epoch 21/50\n",
      "10404/10404 [==============================] - 0s 18us/sample - loss: 0.6922 - accuracy: 0.5164 - val_loss: 0.6931 - val_accuracy: 0.5129\n",
      "Epoch 22/50\n",
      "10404/10404 [==============================] - 0s 19us/sample - loss: 0.6921 - accuracy: 0.5175 - val_loss: 0.6931 - val_accuracy: 0.5067\n",
      "Epoch 23/50\n",
      "10404/10404 [==============================] - 0s 22us/sample - loss: 0.6922 - accuracy: 0.5175 - val_loss: 0.6932 - val_accuracy: 0.5098\n",
      "Epoch 24/50\n",
      "10404/10404 [==============================] - 0s 27us/sample - loss: 0.6919 - accuracy: 0.5248 - val_loss: 0.6931 - val_accuracy: 0.5113\n",
      "Epoch 25/50\n",
      "10404/10404 [==============================] - 0s 19us/sample - loss: 0.6922 - accuracy: 0.5188 - val_loss: 0.6932 - val_accuracy: 0.5102\n",
      "Epoch 26/50\n",
      "10404/10404 [==============================] - 0s 23us/sample - loss: 0.6918 - accuracy: 0.5236 - val_loss: 0.6932 - val_accuracy: 0.5098\n",
      "Epoch 27/50\n",
      "10404/10404 [==============================] - 0s 28us/sample - loss: 0.6917 - accuracy: 0.5221 - val_loss: 0.6934 - val_accuracy: 0.4987\n",
      "Epoch 28/50\n",
      "10404/10404 [==============================] - 0s 20us/sample - loss: 0.6920 - accuracy: 0.5247 - val_loss: 0.6933 - val_accuracy: 0.5017\n",
      "Epoch 29/50\n",
      "10404/10404 [==============================] - 0s 17us/sample - loss: 0.6915 - accuracy: 0.5208 - val_loss: 0.6935 - val_accuracy: 0.5117\n",
      "Epoch 30/50\n",
      "10404/10404 [==============================] - 0s 23us/sample - loss: 0.6917 - accuracy: 0.5211 - val_loss: 0.6934 - val_accuracy: 0.4937\n",
      "Epoch 31/50\n",
      "10404/10404 [==============================] - 0s 20us/sample - loss: 0.6916 - accuracy: 0.5265 - val_loss: 0.6933 - val_accuracy: 0.5021\n",
      "Epoch 32/50\n",
      "10404/10404 [==============================] - 0s 18us/sample - loss: 0.6913 - accuracy: 0.5242 - val_loss: 0.6933 - val_accuracy: 0.4979\n",
      "Epoch 33/50\n",
      "10404/10404 [==============================] - 0s 27us/sample - loss: 0.6912 - accuracy: 0.5300 - val_loss: 0.6935 - val_accuracy: 0.5040\n",
      "Epoch 34/50\n",
      "10404/10404 [==============================] - 0s 16us/sample - loss: 0.6908 - accuracy: 0.5297 - val_loss: 0.6936 - val_accuracy: 0.4975\n",
      "Epoch 35/50\n",
      "10404/10404 [==============================] - 0s 20us/sample - loss: 0.6913 - accuracy: 0.5210 - val_loss: 0.6936 - val_accuracy: 0.5002\n",
      "Epoch 36/50\n",
      "10404/10404 [==============================] - 0s 24us/sample - loss: 0.6916 - accuracy: 0.5235 - val_loss: 0.6935 - val_accuracy: 0.5048\n",
      "Epoch 37/50\n",
      "10404/10404 [==============================] - 0s 16us/sample - loss: 0.6908 - accuracy: 0.5285 - val_loss: 0.6941 - val_accuracy: 0.5087\n",
      "Epoch 38/50\n",
      "10404/10404 [==============================] - 0s 29us/sample - loss: 0.6910 - accuracy: 0.5286 - val_loss: 0.6935 - val_accuracy: 0.4998\n",
      "Epoch 39/50\n",
      "10404/10404 [==============================] - 0s 22us/sample - loss: 0.6906 - accuracy: 0.5344 - val_loss: 0.6938 - val_accuracy: 0.5006\n",
      "Epoch 40/50\n",
      "10404/10404 [==============================] - 0s 25us/sample - loss: 0.6911 - accuracy: 0.5228 - val_loss: 0.6939 - val_accuracy: 0.5006\n",
      "Epoch 41/50\n",
      "10404/10404 [==============================] - 0s 23us/sample - loss: 0.6908 - accuracy: 0.5274 - val_loss: 0.6938 - val_accuracy: 0.4994\n",
      "Epoch 42/50\n",
      "10404/10404 [==============================] - 0s 25us/sample - loss: 0.6907 - accuracy: 0.5351 - val_loss: 0.6938 - val_accuracy: 0.4987\n",
      "Epoch 43/50\n",
      "10404/10404 [==============================] - 0s 35us/sample - loss: 0.6907 - accuracy: 0.5297 - val_loss: 0.6945 - val_accuracy: 0.5013\n",
      "Epoch 44/50\n",
      "10404/10404 [==============================] - 0s 25us/sample - loss: 0.6910 - accuracy: 0.5286 - val_loss: 0.6940 - val_accuracy: 0.4971\n",
      "Epoch 45/50\n",
      "10404/10404 [==============================] - 0s 27us/sample - loss: 0.6912 - accuracy: 0.5315 - val_loss: 0.6940 - val_accuracy: 0.4940\n",
      "Epoch 46/50\n",
      "10404/10404 [==============================] - 0s 22us/sample - loss: 0.6909 - accuracy: 0.5341 - val_loss: 0.6936 - val_accuracy: 0.5040\n",
      "Epoch 47/50\n",
      "10404/10404 [==============================] - 0s 22us/sample - loss: 0.6908 - accuracy: 0.5334 - val_loss: 0.6939 - val_accuracy: 0.4956\n",
      "Epoch 48/50\n",
      "10404/10404 [==============================] - 0s 24us/sample - loss: 0.6903 - accuracy: 0.5367 - val_loss: 0.6941 - val_accuracy: 0.4971\n",
      "Epoch 49/50\n",
      "10404/10404 [==============================] - 0s 27us/sample - loss: 0.6902 - accuracy: 0.5288 - val_loss: 0.6941 - val_accuracy: 0.4940\n",
      "Epoch 50/50\n",
      "10404/10404 [==============================] - 0s 25us/sample - loss: 0.6903 - accuracy: 0.5347 - val_loss: 0.6940 - val_accuracy: 0.4921\n",
      "2601/2601 [==============================] - 0s 30us/sample - loss: 0.6940 - accuracy: 0.4921\n",
      "Training Time:   13.24834418296814\n",
      "Model Loss:      0.6939947437616735\n",
      "Model Accuracy:  0.49211842\n"
     ]
    }
   ],
   "source": [
    "epoch_vec = 50\n",
    "dnn_vec, dnn_vec_history = DNN(train_vec, test_vec, epoch_vec)"
   ]
  },
  {
   "cell_type": "markdown",
   "metadata": {},
   "source": [
    "### DNN Unigram"
   ]
  },
  {
   "cell_type": "code",
   "execution_count": 25,
   "metadata": {},
   "outputs": [
    {
     "name": "stdout",
     "output_type": "stream",
     "text": [
      "Model: \"sequential_4\"\n",
      "_________________________________________________________________\n",
      "Layer (type)                 Output Shape              Param #   \n",
      "=================================================================\n",
      "dense_12 (Dense)             (None, 200)               2676600   \n",
      "_________________________________________________________________\n",
      "dropout_4 (Dropout)          (None, 200)               0         \n",
      "_________________________________________________________________\n",
      "dense_13 (Dense)             (None, 32)                6432      \n",
      "_________________________________________________________________\n",
      "dropout_5 (Dropout)          (None, 32)                0         \n",
      "_________________________________________________________________\n",
      "dense_14 (Dense)             (None, 4)                 132       \n",
      "_________________________________________________________________\n",
      "dense_15 (Dense)             (None, 1)                 5         \n",
      "=================================================================\n",
      "Total params: 2,683,169\n",
      "Trainable params: 2,683,169\n",
      "Non-trainable params: 0\n",
      "_________________________________________________________________\n",
      "Train on 10404 samples, validate on 2601 samples\n",
      "Epoch 1/50\n",
      "10404/10404 [==============================] - 6s 612us/sample - loss: 0.5037 - accuracy: 0.7792 - val_loss: 0.2636 - val_accuracy: 0.9035\n",
      "Epoch 2/50\n",
      "10404/10404 [==============================] - 4s 385us/sample - loss: 0.2175 - accuracy: 0.9255 - val_loss: 0.2381 - val_accuracy: 0.9089\n",
      "Epoch 3/50\n",
      "10404/10404 [==============================] - 3s 330us/sample - loss: 0.1332 - accuracy: 0.9557 - val_loss: 0.2580 - val_accuracy: 0.9097\n",
      "Epoch 4/50\n",
      "10404/10404 [==============================] - 4s 355us/sample - loss: 0.0940 - accuracy: 0.9697 - val_loss: 0.2874 - val_accuracy: 0.9093\n",
      "Epoch 5/50\n",
      "10404/10404 [==============================] - 4s 368us/sample - loss: 0.0743 - accuracy: 0.9786 - val_loss: 0.3051 - val_accuracy: 0.9047\n",
      "Epoch 6/50\n",
      "10404/10404 [==============================] - 3s 333us/sample - loss: 0.0529 - accuracy: 0.9845 - val_loss: 0.3512 - val_accuracy: 0.8954\n",
      "Epoch 7/50\n",
      "10404/10404 [==============================] - 3s 336us/sample - loss: 0.0490 - accuracy: 0.9844 - val_loss: 0.3847 - val_accuracy: 0.8997\n",
      "Epoch 8/50\n",
      "10404/10404 [==============================] - 4s 339us/sample - loss: 0.0369 - accuracy: 0.9886 - val_loss: 0.4197 - val_accuracy: 0.8966\n",
      "Epoch 9/50\n",
      "10404/10404 [==============================] - 4s 376us/sample - loss: 0.0383 - accuracy: 0.9885 - val_loss: 0.4375 - val_accuracy: 0.8973\n",
      "Epoch 10/50\n",
      "10404/10404 [==============================] - 4s 344us/sample - loss: 0.0322 - accuracy: 0.9906 - val_loss: 0.4508 - val_accuracy: 0.8962\n",
      "Epoch 11/50\n",
      "10404/10404 [==============================] - 4s 357us/sample - loss: 0.0297 - accuracy: 0.9914 - val_loss: 0.4791 - val_accuracy: 0.8927\n",
      "Epoch 12/50\n",
      "10404/10404 [==============================] - 4s 393us/sample - loss: 0.0273 - accuracy: 0.9914 - val_loss: 0.4985 - val_accuracy: 0.8985\n",
      "Epoch 13/50\n",
      "10404/10404 [==============================] - 4s 381us/sample - loss: 0.0245 - accuracy: 0.9931 - val_loss: 0.5277 - val_accuracy: 0.8958\n",
      "Epoch 14/50\n",
      "10404/10404 [==============================] - 4s 389us/sample - loss: 0.0242 - accuracy: 0.9927 - val_loss: 0.5357 - val_accuracy: 0.8950\n",
      "Epoch 15/50\n",
      "10404/10404 [==============================] - 4s 399us/sample - loss: 0.0234 - accuracy: 0.9922 - val_loss: 0.5582 - val_accuracy: 0.8966\n",
      "Epoch 16/50\n",
      "10404/10404 [==============================] - 5s 473us/sample - loss: 0.0237 - accuracy: 0.9936 - val_loss: 0.5608 - val_accuracy: 0.8981\n",
      "Epoch 17/50\n",
      "10404/10404 [==============================] - 4s 393us/sample - loss: 0.0247 - accuracy: 0.9926 - val_loss: 0.5549 - val_accuracy: 0.8939\n",
      "Epoch 18/50\n",
      "10404/10404 [==============================] - 4s 337us/sample - loss: 0.0197 - accuracy: 0.9932 - val_loss: 0.5973 - val_accuracy: 0.8943\n",
      "Epoch 19/50\n",
      "10404/10404 [==============================] - 4s 346us/sample - loss: 0.0198 - accuracy: 0.9932 - val_loss: 0.6077 - val_accuracy: 0.8958\n",
      "Epoch 20/50\n",
      "10404/10404 [==============================] - 3s 326us/sample - loss: 0.0210 - accuracy: 0.9926 - val_loss: 0.6420 - val_accuracy: 0.8866\n",
      "Epoch 21/50\n",
      "10404/10404 [==============================] - 3s 322us/sample - loss: 0.0181 - accuracy: 0.9937 - val_loss: 0.6667 - val_accuracy: 0.8870\n",
      "Epoch 22/50\n",
      "10404/10404 [==============================] - 3s 323us/sample - loss: 0.0177 - accuracy: 0.9926 - val_loss: 0.6764 - val_accuracy: 0.8870\n",
      "Epoch 23/50\n",
      "10404/10404 [==============================] - 3s 287us/sample - loss: 0.0207 - accuracy: 0.9935 - val_loss: 0.6731 - val_accuracy: 0.8893\n",
      "Epoch 24/50\n",
      "10404/10404 [==============================] - 3s 284us/sample - loss: 0.0164 - accuracy: 0.9941 - val_loss: 0.7151 - val_accuracy: 0.8889\n",
      "Epoch 25/50\n",
      "10404/10404 [==============================] - 3s 286us/sample - loss: 0.0170 - accuracy: 0.9940 - val_loss: 0.7368 - val_accuracy: 0.8908\n",
      "Epoch 26/50\n",
      "10404/10404 [==============================] - 3s 287us/sample - loss: 0.0165 - accuracy: 0.9933 - val_loss: 0.7592 - val_accuracy: 0.8904\n",
      "Epoch 27/50\n",
      "10404/10404 [==============================] - 3s 284us/sample - loss: 0.0160 - accuracy: 0.9935 - val_loss: 0.7721 - val_accuracy: 0.8908\n",
      "Epoch 28/50\n",
      "10404/10404 [==============================] - 3s 286us/sample - loss: 0.0134 - accuracy: 0.9947 - val_loss: 0.7939 - val_accuracy: 0.8889\n",
      "Epoch 29/50\n",
      "10404/10404 [==============================] - 3s 288us/sample - loss: 0.0159 - accuracy: 0.9938 - val_loss: 0.8022 - val_accuracy: 0.8935\n",
      "Epoch 30/50\n",
      "10404/10404 [==============================] - 3s 285us/sample - loss: 0.0139 - accuracy: 0.9944 - val_loss: 0.8008 - val_accuracy: 0.8920\n",
      "Epoch 31/50\n",
      "10404/10404 [==============================] - 3s 282us/sample - loss: 0.0152 - accuracy: 0.9938 - val_loss: 0.8091 - val_accuracy: 0.8904\n",
      "Epoch 32/50\n",
      "10404/10404 [==============================] - 3s 283us/sample - loss: 0.0138 - accuracy: 0.9950 - val_loss: 0.8204 - val_accuracy: 0.8912\n",
      "Epoch 33/50\n",
      "10404/10404 [==============================] - 3s 289us/sample - loss: 0.0137 - accuracy: 0.9938 - val_loss: 0.8319 - val_accuracy: 0.8877\n",
      "Epoch 34/50\n",
      "10404/10404 [==============================] - 5s 494us/sample - loss: 0.0134 - accuracy: 0.9941 - val_loss: 0.8699 - val_accuracy: 0.8885\n",
      "Epoch 35/50\n",
      "10404/10404 [==============================] - 4s 416us/sample - loss: 0.0119 - accuracy: 0.9942 - val_loss: 0.9121 - val_accuracy: 0.8870\n",
      "Epoch 36/50\n",
      "10404/10404 [==============================] - 4s 415us/sample - loss: 0.0124 - accuracy: 0.9945 - val_loss: 0.9189 - val_accuracy: 0.8870\n",
      "Epoch 37/50\n",
      "10404/10404 [==============================] - 5s 435us/sample - loss: 0.0130 - accuracy: 0.9947 - val_loss: 0.9601 - val_accuracy: 0.8904\n",
      "Epoch 38/50\n",
      "10404/10404 [==============================] - 4s 377us/sample - loss: 0.0125 - accuracy: 0.9942 - val_loss: 0.9640 - val_accuracy: 0.8885\n",
      "Epoch 39/50\n",
      "10404/10404 [==============================] - 5s 444us/sample - loss: 0.0112 - accuracy: 0.9944 - val_loss: 1.0056 - val_accuracy: 0.8877\n",
      "Epoch 40/50\n",
      "10404/10404 [==============================] - 4s 398us/sample - loss: 0.0126 - accuracy: 0.9943 - val_loss: 0.9934 - val_accuracy: 0.8874\n",
      "Epoch 41/50\n",
      "10404/10404 [==============================] - 4s 379us/sample - loss: 0.0129 - accuracy: 0.9941 - val_loss: 1.0300 - val_accuracy: 0.8870\n",
      "Epoch 42/50\n",
      "10404/10404 [==============================] - 4s 367us/sample - loss: 0.0114 - accuracy: 0.9938 - val_loss: 1.0426 - val_accuracy: 0.8877\n",
      "Epoch 43/50\n",
      "10404/10404 [==============================] - 4s 340us/sample - loss: 0.0117 - accuracy: 0.9943 - val_loss: 1.0618 - val_accuracy: 0.8893\n",
      "Epoch 44/50\n",
      "10404/10404 [==============================] - 3s 330us/sample - loss: 0.0112 - accuracy: 0.9941 - val_loss: 1.0705 - val_accuracy: 0.8889\n",
      "Epoch 45/50\n",
      "10404/10404 [==============================] - 3s 332us/sample - loss: 0.0115 - accuracy: 0.9952 - val_loss: 1.0857 - val_accuracy: 0.8904\n",
      "Epoch 46/50\n",
      "10404/10404 [==============================] - 4s 339us/sample - loss: 0.0138 - accuracy: 0.9941 - val_loss: 1.0358 - val_accuracy: 0.8854\n",
      "Epoch 47/50\n",
      "10404/10404 [==============================] - 3s 326us/sample - loss: 0.0114 - accuracy: 0.9952 - val_loss: 1.0396 - val_accuracy: 0.8904\n",
      "Epoch 48/50\n",
      "10404/10404 [==============================] - 4s 351us/sample - loss: 0.0104 - accuracy: 0.9951 - val_loss: 1.0874 - val_accuracy: 0.8881\n",
      "Epoch 49/50\n",
      "10404/10404 [==============================] - 4s 358us/sample - loss: 0.0115 - accuracy: 0.9941 - val_loss: 1.0642 - val_accuracy: 0.8850\n",
      "Epoch 50/50\n",
      "10404/10404 [==============================] - 4s 370us/sample - loss: 0.0106 - accuracy: 0.9947 - val_loss: 1.0622 - val_accuracy: 0.8889\n",
      "2601/2601 [==============================] - 1s 303us/sample - loss: 1.0622 - accuracy: 0.8889\n",
      "Training Time:   186.64769506454468\n",
      "Model Loss:      1.062154809315662\n",
      "Model Accuracy:  0.8888889\n"
     ]
    }
   ],
   "source": [
    "epoch_uni = 50\n",
    "dnn_uni, dnn_uni_history = DNN(train_uni, test_uni, epoch_uni)"
   ]
  },
  {
   "cell_type": "markdown",
   "metadata": {},
   "source": [
    "### DNN Bigram"
   ]
  },
  {
   "cell_type": "code",
   "execution_count": 26,
   "metadata": {},
   "outputs": [
    {
     "name": "stdout",
     "output_type": "stream",
     "text": [
      "Model: \"sequential_5\"\n",
      "_________________________________________________________________\n",
      "Layer (type)                 Output Shape              Param #   \n",
      "=================================================================\n",
      "dense_16 (Dense)             (None, 500)               39907000  \n",
      "_________________________________________________________________\n",
      "dropout_6 (Dropout)          (None, 500)               0         \n",
      "_________________________________________________________________\n",
      "dense_17 (Dense)             (None, 64)                32064     \n",
      "_________________________________________________________________\n",
      "dropout_7 (Dropout)          (None, 64)                0         \n",
      "_________________________________________________________________\n",
      "dense_18 (Dense)             (None, 4)                 260       \n",
      "_________________________________________________________________\n",
      "dense_19 (Dense)             (None, 1)                 5         \n",
      "=================================================================\n",
      "Total params: 39,939,329\n",
      "Trainable params: 39,939,329\n",
      "Non-trainable params: 0\n",
      "_________________________________________________________________\n",
      "Train on 10404 samples, validate on 2601 samples\n",
      "Epoch 1/50\n",
      "10404/10404 [==============================] - 50s 5ms/sample - loss: 0.3890 - accuracy: 0.8519 - val_loss: 0.2540 - val_accuracy: 0.9097\n",
      "Epoch 2/50\n",
      "10404/10404 [==============================] - 49s 5ms/sample - loss: 0.1033 - accuracy: 0.9691 - val_loss: 0.2860 - val_accuracy: 0.9062\n",
      "Epoch 3/50\n",
      "10404/10404 [==============================] - 44s 4ms/sample - loss: 0.0391 - accuracy: 0.9887 - val_loss: 0.3202 - val_accuracy: 0.9043\n",
      "Epoch 4/50\n",
      "10404/10404 [==============================] - 49s 5ms/sample - loss: 0.0258 - accuracy: 0.9923 - val_loss: 0.3364 - val_accuracy: 0.9054\n",
      "Epoch 5/50\n",
      "10404/10404 [==============================] - 44s 4ms/sample - loss: 0.0222 - accuracy: 0.9935 - val_loss: 0.3499 - val_accuracy: 0.9043\n",
      "Epoch 6/50\n",
      "10404/10404 [==============================] - 44s 4ms/sample - loss: 0.0191 - accuracy: 0.9938 - val_loss: 0.3642 - val_accuracy: 0.9012\n",
      "Epoch 7/50\n",
      "10404/10404 [==============================] - 48s 5ms/sample - loss: 0.0160 - accuracy: 0.9943 - val_loss: 0.3841 - val_accuracy: 0.8958\n",
      "Epoch 8/50\n",
      "10404/10404 [==============================] - 44s 4ms/sample - loss: 0.0131 - accuracy: 0.9947 - val_loss: 0.4103 - val_accuracy: 0.8962\n",
      "Epoch 9/50\n",
      "10404/10404 [==============================] - 42s 4ms/sample - loss: 0.0158 - accuracy: 0.9934 - val_loss: 0.4160 - val_accuracy: 0.8916\n",
      "Epoch 10/50\n",
      "10404/10404 [==============================] - 43s 4ms/sample - loss: 0.0148 - accuracy: 0.9943 - val_loss: 0.4253 - val_accuracy: 0.8900\n",
      "Epoch 11/50\n",
      "10404/10404 [==============================] - 42s 4ms/sample - loss: 0.0140 - accuracy: 0.9940 - val_loss: 0.4223 - val_accuracy: 0.8877\n",
      "Epoch 12/50\n",
      "10404/10404 [==============================] - 42s 4ms/sample - loss: 0.0120 - accuracy: 0.9942 - val_loss: 0.4494 - val_accuracy: 0.8885\n",
      "Epoch 13/50\n",
      "10404/10404 [==============================] - 42s 4ms/sample - loss: 0.0102 - accuracy: 0.9951 - val_loss: 0.4654 - val_accuracy: 0.8908\n",
      "Epoch 14/50\n",
      "10404/10404 [==============================] - 43s 4ms/sample - loss: 0.0109 - accuracy: 0.9942 - val_loss: 0.4788 - val_accuracy: 0.8866\n",
      "Epoch 15/50\n",
      "10404/10404 [==============================] - 42s 4ms/sample - loss: 0.0103 - accuracy: 0.9949 - val_loss: 0.4874 - val_accuracy: 0.8900\n",
      "Epoch 16/50\n",
      "10404/10404 [==============================] - 44s 4ms/sample - loss: 0.0101 - accuracy: 0.9949 - val_loss: 0.5050 - val_accuracy: 0.8858\n",
      "Epoch 17/50\n",
      "10404/10404 [==============================] - 43s 4ms/sample - loss: 0.0108 - accuracy: 0.9947 - val_loss: 0.4770 - val_accuracy: 0.8858\n",
      "Epoch 18/50\n",
      "10404/10404 [==============================] - 42s 4ms/sample - loss: 0.0105 - accuracy: 0.9944 - val_loss: 0.5041 - val_accuracy: 0.8858\n",
      "Epoch 19/50\n",
      "10404/10404 [==============================] - 42s 4ms/sample - loss: 0.0092 - accuracy: 0.9953 - val_loss: 0.5259 - val_accuracy: 0.8870\n",
      "Epoch 20/50\n",
      "10404/10404 [==============================] - 42s 4ms/sample - loss: 0.0088 - accuracy: 0.9952 - val_loss: 0.5426 - val_accuracy: 0.8870\n",
      "Epoch 21/50\n",
      "10404/10404 [==============================] - 47s 5ms/sample - loss: 0.0100 - accuracy: 0.9946 - val_loss: 0.5323 - val_accuracy: 0.8843\n",
      "Epoch 22/50\n",
      "10404/10404 [==============================] - 45s 4ms/sample - loss: 0.0088 - accuracy: 0.9945 - val_loss: 0.5595 - val_accuracy: 0.8835\n",
      "Epoch 23/50\n",
      "10404/10404 [==============================] - 41s 4ms/sample - loss: 0.0087 - accuracy: 0.9949 - val_loss: 0.5823 - val_accuracy: 0.8839\n",
      "Epoch 24/50\n",
      "10404/10404 [==============================] - 41s 4ms/sample - loss: 0.0077 - accuracy: 0.9960 - val_loss: 0.5870 - val_accuracy: 0.8827\n",
      "Epoch 25/50\n",
      "10404/10404 [==============================] - 41s 4ms/sample - loss: 0.0084 - accuracy: 0.9951 - val_loss: 0.5911 - val_accuracy: 0.8827\n",
      "Epoch 26/50\n",
      "10404/10404 [==============================] - 41s 4ms/sample - loss: 0.0079 - accuracy: 0.9954 - val_loss: 0.6064 - val_accuracy: 0.8850\n",
      "Epoch 27/50\n",
      "10404/10404 [==============================] - 41s 4ms/sample - loss: 0.0078 - accuracy: 0.9951 - val_loss: 0.6700 - val_accuracy: 0.8808\n",
      "Epoch 28/50\n",
      "10404/10404 [==============================] - 41s 4ms/sample - loss: 0.0079 - accuracy: 0.9952 - val_loss: 0.6500 - val_accuracy: 0.8831\n",
      "Epoch 29/50\n",
      "10404/10404 [==============================] - 41s 4ms/sample - loss: 0.0077 - accuracy: 0.9953 - val_loss: 0.6608 - val_accuracy: 0.8831\n",
      "Epoch 30/50\n",
      "10404/10404 [==============================] - 40s 4ms/sample - loss: 0.0079 - accuracy: 0.9951 - val_loss: 0.6594 - val_accuracy: 0.8843\n",
      "Epoch 31/50\n",
      "10404/10404 [==============================] - 40s 4ms/sample - loss: 0.0076 - accuracy: 0.9958 - val_loss: 0.6914 - val_accuracy: 0.8816\n",
      "Epoch 32/50\n",
      "10404/10404 [==============================] - 41s 4ms/sample - loss: 0.0076 - accuracy: 0.9953 - val_loss: 0.7281 - val_accuracy: 0.8812\n",
      "Epoch 33/50\n",
      "10404/10404 [==============================] - 40s 4ms/sample - loss: 0.0083 - accuracy: 0.9946 - val_loss: 0.7204 - val_accuracy: 0.8850\n",
      "Epoch 34/50\n",
      "10404/10404 [==============================] - 40s 4ms/sample - loss: 0.0096 - accuracy: 0.9949 - val_loss: 0.6889 - val_accuracy: 0.8824\n",
      "Epoch 35/50\n",
      "10404/10404 [==============================] - 41s 4ms/sample - loss: 0.0078 - accuracy: 0.9953 - val_loss: 0.7210 - val_accuracy: 0.8854\n",
      "Epoch 36/50\n",
      "10404/10404 [==============================] - 41s 4ms/sample - loss: 0.0075 - accuracy: 0.9952 - val_loss: 0.6891 - val_accuracy: 0.8831\n",
      "Epoch 37/50\n",
      "10404/10404 [==============================] - 40s 4ms/sample - loss: 0.0073 - accuracy: 0.9951 - val_loss: 0.7096 - val_accuracy: 0.8866\n",
      "Epoch 38/50\n",
      "10404/10404 [==============================] - 41s 4ms/sample - loss: 0.0081 - accuracy: 0.9951 - val_loss: 0.7067 - val_accuracy: 0.8843\n",
      "Epoch 39/50\n",
      "10404/10404 [==============================] - 41s 4ms/sample - loss: 0.0076 - accuracy: 0.9948 - val_loss: 0.7094 - val_accuracy: 0.8847\n",
      "Epoch 40/50\n",
      "10404/10404 [==============================] - 41s 4ms/sample - loss: 0.0077 - accuracy: 0.9953 - val_loss: 0.7400 - val_accuracy: 0.8835\n",
      "Epoch 41/50\n",
      "10404/10404 [==============================] - 41s 4ms/sample - loss: 0.0075 - accuracy: 0.9950 - val_loss: 0.7526 - val_accuracy: 0.8820\n",
      "Epoch 42/50\n",
      "10404/10404 [==============================] - 40s 4ms/sample - loss: 0.0078 - accuracy: 0.9949 - val_loss: 0.7690 - val_accuracy: 0.8812\n",
      "Epoch 43/50\n",
      "10404/10404 [==============================] - 41s 4ms/sample - loss: 0.0077 - accuracy: 0.9952 - val_loss: 0.7748 - val_accuracy: 0.8816\n",
      "Epoch 44/50\n",
      "10404/10404 [==============================] - 41s 4ms/sample - loss: 0.0074 - accuracy: 0.9951 - val_loss: 0.8158 - val_accuracy: 0.8839\n",
      "Epoch 45/50\n",
      "10404/10404 [==============================] - 40s 4ms/sample - loss: 0.0079 - accuracy: 0.9949 - val_loss: 0.8010 - val_accuracy: 0.8800\n",
      "Epoch 46/50\n",
      "10404/10404 [==============================] - 41s 4ms/sample - loss: 0.0075 - accuracy: 0.9952 - val_loss: 0.7889 - val_accuracy: 0.8808\n",
      "Epoch 47/50\n",
      "10404/10404 [==============================] - 41s 4ms/sample - loss: 0.0076 - accuracy: 0.9954 - val_loss: 0.8042 - val_accuracy: 0.8839\n",
      "Epoch 48/50\n",
      "10404/10404 [==============================] - 40s 4ms/sample - loss: 0.0075 - accuracy: 0.9951 - val_loss: 0.8004 - val_accuracy: 0.8835\n",
      "Epoch 49/50\n",
      "10404/10404 [==============================] - 41s 4ms/sample - loss: 0.0077 - accuracy: 0.9953 - val_loss: 0.7762 - val_accuracy: 0.8827\n",
      "Epoch 50/50\n",
      "10404/10404 [==============================] - 41s 4ms/sample - loss: 0.0082 - accuracy: 0.9950 - val_loss: 0.8305 - val_accuracy: 0.8804\n",
      "2601/2601 [==============================] - 5s 2ms/sample - loss: 0.8305 - accuracy: 0.8804\n",
      "Training Time:   2114.559143304825\n",
      "Model Loss:      0.8305257898332857\n",
      "Model Accuracy:  0.8804306\n"
     ]
    }
   ],
   "source": [
    "epoch_big = 50\n",
    "dnn_big, dnn_big_history = DNN(train_big, test_big, epoch_big)"
   ]
  },
  {
   "cell_type": "markdown",
   "metadata": {},
   "source": [
    "### DNN TFIDF"
   ]
  },
  {
   "cell_type": "code",
   "execution_count": 27,
   "metadata": {},
   "outputs": [
    {
     "name": "stdout",
     "output_type": "stream",
     "text": [
      "Model: \"sequential_6\"\n",
      "_________________________________________________________________\n",
      "Layer (type)                 Output Shape              Param #   \n",
      "=================================================================\n",
      "dense_20 (Dense)             (None, 200)               2676600   \n",
      "_________________________________________________________________\n",
      "dropout_8 (Dropout)          (None, 200)               0         \n",
      "_________________________________________________________________\n",
      "dense_21 (Dense)             (None, 32)                6432      \n",
      "_________________________________________________________________\n",
      "dropout_9 (Dropout)          (None, 32)                0         \n",
      "_________________________________________________________________\n",
      "dense_22 (Dense)             (None, 4)                 132       \n",
      "_________________________________________________________________\n",
      "dense_23 (Dense)             (None, 1)                 5         \n",
      "=================================================================\n",
      "Total params: 2,683,169\n",
      "Trainable params: 2,683,169\n",
      "Non-trainable params: 0\n",
      "_________________________________________________________________\n",
      "Train on 10404 samples, validate on 2601 samples\n",
      "Epoch 1/50\n",
      "10404/10404 [==============================] - 5s 487us/sample - loss: 0.6271 - accuracy: 0.6323 - val_loss: 0.5173 - val_accuracy: 0.8293\n",
      "Epoch 2/50\n",
      "10404/10404 [==============================] - 3s 314us/sample - loss: 0.4477 - accuracy: 0.9004 - val_loss: 0.4809 - val_accuracy: 0.8697\n",
      "Epoch 3/50\n",
      "10404/10404 [==============================] - 3s 315us/sample - loss: 0.3604 - accuracy: 0.9468 - val_loss: 0.4631 - val_accuracy: 0.8904\n",
      "Epoch 4/50\n",
      "10404/10404 [==============================] - 3s 313us/sample - loss: 0.3155 - accuracy: 0.9630 - val_loss: 0.4679 - val_accuracy: 0.8885\n",
      "Epoch 5/50\n",
      "10404/10404 [==============================] - 3s 313us/sample - loss: 0.2854 - accuracy: 0.9724 - val_loss: 0.4755 - val_accuracy: 0.8858\n",
      "Epoch 6/50\n",
      "10404/10404 [==============================] - 3s 331us/sample - loss: 0.2636 - accuracy: 0.9759 - val_loss: 0.4991 - val_accuracy: 0.8889\n",
      "Epoch 7/50\n",
      "10404/10404 [==============================] - 3s 318us/sample - loss: 0.2448 - accuracy: 0.9784 - val_loss: 0.5132 - val_accuracy: 0.8839\n",
      "Epoch 8/50\n",
      "10404/10404 [==============================] - 3s 315us/sample - loss: 0.2295 - accuracy: 0.9808 - val_loss: 0.4922 - val_accuracy: 0.8831\n",
      "Epoch 9/50\n",
      "10404/10404 [==============================] - 3s 316us/sample - loss: 0.2179 - accuracy: 0.9813 - val_loss: 0.4906 - val_accuracy: 0.8824\n",
      "Epoch 10/50\n",
      "10404/10404 [==============================] - 3s 316us/sample - loss: 0.2065 - accuracy: 0.9815 - val_loss: 0.5134 - val_accuracy: 0.8900\n",
      "Epoch 11/50\n",
      "10404/10404 [==============================] - 3s 316us/sample - loss: 0.1942 - accuracy: 0.9827 - val_loss: 0.5537 - val_accuracy: 0.8847\n",
      "Epoch 12/50\n",
      "10404/10404 [==============================] - 3s 319us/sample - loss: 0.1848 - accuracy: 0.9833 - val_loss: 0.5548 - val_accuracy: 0.8858\n",
      "Epoch 13/50\n",
      "10404/10404 [==============================] - 3s 322us/sample - loss: 0.1759 - accuracy: 0.9840 - val_loss: 0.4997 - val_accuracy: 0.8789\n",
      "Epoch 14/50\n",
      "10404/10404 [==============================] - 3s 322us/sample - loss: 0.1693 - accuracy: 0.9839 - val_loss: 0.5174 - val_accuracy: 0.8847\n",
      "Epoch 15/50\n",
      "10404/10404 [==============================] - 3s 322us/sample - loss: 0.1595 - accuracy: 0.9850 - val_loss: 0.5228 - val_accuracy: 0.8866\n",
      "Epoch 16/50\n",
      "10404/10404 [==============================] - 3s 324us/sample - loss: 0.1532 - accuracy: 0.9849 - val_loss: 0.5219 - val_accuracy: 0.8847\n",
      "Epoch 17/50\n",
      "10404/10404 [==============================] - 3s 322us/sample - loss: 0.1484 - accuracy: 0.9842 - val_loss: 0.5389 - val_accuracy: 0.8850\n",
      "Epoch 18/50\n",
      "10404/10404 [==============================] - 4s 342us/sample - loss: 0.1434 - accuracy: 0.9843 - val_loss: 0.5484 - val_accuracy: 0.8820\n",
      "Epoch 19/50\n",
      "10404/10404 [==============================] - 3s 325us/sample - loss: 0.1362 - accuracy: 0.9849 - val_loss: 0.5833 - val_accuracy: 0.8847\n",
      "Epoch 20/50\n",
      "10404/10404 [==============================] - 3s 322us/sample - loss: 0.1316 - accuracy: 0.9852 - val_loss: 0.5808 - val_accuracy: 0.8854\n",
      "Epoch 21/50\n",
      "10404/10404 [==============================] - 4s 340us/sample - loss: 0.1266 - accuracy: 0.9851 - val_loss: 0.5596 - val_accuracy: 0.8812\n",
      "Epoch 22/50\n",
      "10404/10404 [==============================] - 4s 340us/sample - loss: 0.1222 - accuracy: 0.9854 - val_loss: 0.5955 - val_accuracy: 0.8812\n",
      "Epoch 23/50\n",
      "10404/10404 [==============================] - 3s 324us/sample - loss: 0.1183 - accuracy: 0.9859 - val_loss: 0.6221 - val_accuracy: 0.8889\n",
      "Epoch 24/50\n",
      "10404/10404 [==============================] - 3s 327us/sample - loss: 0.1148 - accuracy: 0.9850 - val_loss: 0.6126 - val_accuracy: 0.8877\n",
      "Epoch 25/50\n",
      "10404/10404 [==============================] - 3s 325us/sample - loss: 0.1110 - accuracy: 0.9859 - val_loss: 0.5857 - val_accuracy: 0.8797\n",
      "Epoch 26/50\n",
      "10404/10404 [==============================] - 3s 326us/sample - loss: 0.1074 - accuracy: 0.9863 - val_loss: 0.5926 - val_accuracy: 0.8781\n",
      "Epoch 27/50\n",
      "10404/10404 [==============================] - 3s 325us/sample - loss: 0.1036 - accuracy: 0.9862 - val_loss: 0.5879 - val_accuracy: 0.8797\n",
      "Epoch 28/50\n",
      "10404/10404 [==============================] - 3s 327us/sample - loss: 0.1004 - accuracy: 0.9866 - val_loss: 0.6132 - val_accuracy: 0.8831\n",
      "Epoch 29/50\n",
      "10404/10404 [==============================] - 3s 308us/sample - loss: 0.0977 - accuracy: 0.9865 - val_loss: 0.6414 - val_accuracy: 0.8847\n",
      "Epoch 30/50\n",
      "10404/10404 [==============================] - 3s 323us/sample - loss: 0.0966 - accuracy: 0.9865 - val_loss: 0.6482 - val_accuracy: 0.8874\n",
      "Epoch 31/50\n",
      "10404/10404 [==============================] - 3s 319us/sample - loss: 0.0939 - accuracy: 0.9864 - val_loss: 0.6728 - val_accuracy: 0.8881\n",
      "Epoch 32/50\n",
      "10404/10404 [==============================] - 3s 304us/sample - loss: 0.0912 - accuracy: 0.9866 - val_loss: 0.6170 - val_accuracy: 0.8793\n",
      "Epoch 33/50\n",
      "10404/10404 [==============================] - 3s 308us/sample - loss: 0.0886 - accuracy: 0.9867 - val_loss: 0.6385 - val_accuracy: 0.8835\n",
      "Epoch 34/50\n",
      "10404/10404 [==============================] - 3s 308us/sample - loss: 0.0865 - accuracy: 0.9865 - val_loss: 0.5988 - val_accuracy: 0.8739\n",
      "Epoch 35/50\n",
      "10404/10404 [==============================] - 3s 311us/sample - loss: 0.0847 - accuracy: 0.9867 - val_loss: 0.5986 - val_accuracy: 0.8697\n",
      "Epoch 36/50\n",
      "10404/10404 [==============================] - 3s 304us/sample - loss: 0.0828 - accuracy: 0.9871 - val_loss: 0.6366 - val_accuracy: 0.8804\n",
      "Epoch 37/50\n",
      "10404/10404 [==============================] - 3s 329us/sample - loss: 0.0810 - accuracy: 0.9870 - val_loss: 0.6129 - val_accuracy: 0.8654\n",
      "Epoch 38/50\n",
      "10404/10404 [==============================] - 3s 308us/sample - loss: 0.0795 - accuracy: 0.9870 - val_loss: 0.6465 - val_accuracy: 0.8689\n",
      "Epoch 39/50\n",
      "10404/10404 [==============================] - 3s 305us/sample - loss: 0.0803 - accuracy: 0.9869 - val_loss: 0.6410 - val_accuracy: 0.8674\n",
      "Epoch 40/50\n",
      "10404/10404 [==============================] - 3s 304us/sample - loss: 0.0772 - accuracy: 0.9869 - val_loss: 0.6905 - val_accuracy: 0.8743\n",
      "Epoch 41/50\n",
      "10404/10404 [==============================] - 3s 307us/sample - loss: 0.0773 - accuracy: 0.9866 - val_loss: 0.6541 - val_accuracy: 0.8685\n",
      "Epoch 42/50\n",
      "10404/10404 [==============================] - 3s 309us/sample - loss: 0.0751 - accuracy: 0.9870 - val_loss: 0.7012 - val_accuracy: 0.8808\n",
      "Epoch 43/50\n",
      "10404/10404 [==============================] - 3s 301us/sample - loss: 0.0736 - accuracy: 0.9870 - val_loss: 0.6724 - val_accuracy: 0.8693\n",
      "Epoch 44/50\n",
      "10404/10404 [==============================] - 3s 305us/sample - loss: 0.0722 - accuracy: 0.9871 - val_loss: 0.7173 - val_accuracy: 0.8781\n",
      "Epoch 45/50\n",
      "10404/10404 [==============================] - 3s 307us/sample - loss: 0.0731 - accuracy: 0.9871 - val_loss: 0.6882 - val_accuracy: 0.8689\n",
      "Epoch 46/50\n",
      "10404/10404 [==============================] - 3s 303us/sample - loss: 0.0716 - accuracy: 0.9866 - val_loss: 0.6472 - val_accuracy: 0.8524\n",
      "Epoch 47/50\n",
      "10404/10404 [==============================] - 3s 301us/sample - loss: 0.0693 - accuracy: 0.9872 - val_loss: 0.6685 - val_accuracy: 0.8593\n",
      "Epoch 48/50\n",
      "10404/10404 [==============================] - 3s 303us/sample - loss: 0.0680 - accuracy: 0.9877 - val_loss: 0.6641 - val_accuracy: 0.8624\n",
      "Epoch 49/50\n",
      "10404/10404 [==============================] - 3s 302us/sample - loss: 0.0679 - accuracy: 0.9876 - val_loss: 0.6519 - val_accuracy: 0.8620\n",
      "Epoch 50/50\n",
      "10404/10404 [==============================] - 3s 301us/sample - loss: 0.0684 - accuracy: 0.9873 - val_loss: 0.6199 - val_accuracy: 0.8589\n",
      "2601/2601 [==============================] - 1s 205us/sample - loss: 0.6199 - accuracy: 0.8589\n",
      "Training Time:   168.09154200553894\n",
      "Model Loss:      0.6198701724490263\n",
      "Model Accuracy:  0.8589004\n"
     ]
    }
   ],
   "source": [
    "epoch_tfidf = 50\n",
    "dnn_tfidf, dnn_tfidf_history = DNN(train_tfidf, test_tfidf, epoch_tfidf)"
   ]
  },
  {
   "cell_type": "markdown",
   "metadata": {},
   "source": [
    "## Evaluating Deep Neural Networks"
   ]
  },
  {
   "cell_type": "code",
   "execution_count": 28,
   "metadata": {},
   "outputs": [
    {
     "name": "stdout",
     "output_type": "stream",
     "text": [
      "DNN Unigram Evaluation: \n",
      "Accuracy:        0.8888888888888888\n",
      "ROC AUC Score:   0.8886664599823213\n",
      "F1 Score:        0.8852719333068679\n",
      "Precision:       0.8905750798722045\n",
      "Recall:          0.8800315706393055\n"
     ]
    },
    {
     "data": {
      "image/png": "[encoded data removed]",
      "text/plain": [
       "<Figure size 432x288 with 1 Axes>"
      ]
     },
     "metadata": {
      "needs_background": "light"
     },
     "output_type": "display_data"
    },
    {
     "data": {
      "image/png": "[encoded data removed]",
      "text/plain": [
       "<Figure size 432x288 with 1 Axes>"
      ]
     },
     "metadata": {
      "needs_background": "light"
     },
     "output_type": "display_data"
    }
   ],
   "source": [
    "evaluate(dnn_uni, dnn_uni_history, test_uni, epoch_uni, 'DNN', 'Unigram')"
   ]
  },
  {
   "cell_type": "code",
   "execution_count": 29,
   "metadata": {},
   "outputs": [
    {
     "name": "stdout",
     "output_type": "stream",
     "text": [
      "DNN Bigram Evaluation: \n",
      "Accuracy:        0.8804306036139946\n",
      "ROC AUC Score:   0.8794295630401059\n",
      "F1 Score:        0.8725931995083982\n",
      "Precision:       0.9071550255536627\n",
      "Recall:          0.840568271507498\n"
     ]
    },
    {
     "data": {
      "image/png": "[encoded data removed]",
      "text/plain": [
       "<Figure size 432x288 with 1 Axes>"
      ]
     },
     "metadata": {
      "needs_background": "light"
     },
     "output_type": "display_data"
    },
    {
     "data": {
      "image/png": "[encoded data removed]",
      "text/plain": [
       "<Figure size 432x288 with 1 Axes>"
      ]
     },
     "metadata": {
      "needs_background": "light"
     },
     "output_type": "display_data"
    }
   ],
   "source": [
    "evaluate(dnn_big, dnn_big_history, test_big, epoch_big, 'DNN', 'Bigram')"
   ]
  },
  {
   "cell_type": "code",
   "execution_count": 30,
   "metadata": {},
   "outputs": [
    {
     "name": "stdout",
     "output_type": "stream",
     "text": [
      "DNN TFIDF Evaluation: \n",
      "Accuracy:        0.8589004229142637\n",
      "ROC AUC Score:   0.8598869468186191\n",
      "F1 Score:        0.8611426409383277\n",
      "Precision:       0.8270348837209303\n",
      "Recall:          0.8981846882399369\n"
     ]
    },
    {
     "data": {
      "image/png": "[encoded data removed]",
      "text/plain": [
       "<Figure size 432x288 with 1 Axes>"
      ]
     },
     "metadata": {
      "needs_background": "light"
     },
     "output_type": "display_data"
    },
    {
     "data": {
      "image/png": "[encoded data removed]",
      "text/plain": [
       "<Figure size 432x288 with 1 Axes>"
      ]
     },
     "metadata": {
      "needs_background": "light"
     },
     "output_type": "display_data"
    }
   ],
   "source": [
    "evaluate(dnn_tfidf, dnn_tfidf_history, test_tfidf, epoch_tfidf, 'DNN', 'TFIDF')"
   ]
  },
  {
   "cell_type": "code",
   "execution_count": 31,
   "metadata": {},
   "outputs": [
    {
     "name": "stdout",
     "output_type": "stream",
     "text": [
      "DNN Reduced Unigram Evaluation: \n",
      "Accuracy:        0.9146482122260668\n",
      "ROC AUC Score:   0.9136401609771279\n",
      "F1 Score:        0.9089417555373256\n",
      "Precision:       0.946199829205807\n",
      "Recall:          0.8745067087608525\n"
     ]
    },
    {
     "data": {
      "image/png": "[encoded data removed]",
      "text/plain": [
       "<Figure size 432x288 with 1 Axes>"
      ]
     },
     "metadata": {
      "needs_background": "light"
     },
     "output_type": "display_data"
    },
    {
     "data": {
      "image/png": "[encoded data removed]",
      "text/plain": [
       "<Figure size 432x288 with 1 Axes>"
      ]
     },
     "metadata": {
      "needs_background": "light"
     },
     "output_type": "display_data"
    }
   ],
   "source": [
    "evaluate(dnn_runi, dnn_runi_history, test_runi, epoch_runi, 'DNN', 'Reduced Unigram')"
   ]
  },
  {
   "cell_type": "code",
   "execution_count": 32,
   "metadata": {},
   "outputs": [
    {
     "name": "stdout",
     "output_type": "stream",
     "text": [
      "DNN Reduced Bigram Evaluation: \n",
      "Accuracy:        0.9104190695886197\n",
      "ROC AUC Score:   0.9095965040368528\n",
      "F1 Score:        0.9051689051689051\n",
      "Precision:       0.934453781512605\n",
      "Recall:          0.877663772691397\n"
     ]
    },
    {
     "data": {
      "image/png": "[encoded data removed]",
      "text/plain": [
       "<Figure size 432x288 with 1 Axes>"
      ]
     },
     "metadata": {
      "needs_background": "light"
     },
     "output_type": "display_data"
    },
    {
     "data": {
      "image/png": "[encoded data removed]",
      "text/plain": [
       "<Figure size 432x288 with 1 Axes>"
      ]
     },
     "metadata": {
      "needs_background": "light"
     },
     "output_type": "display_data"
    }
   ],
   "source": [
    "evaluate(dnn_rbig, dnn_rbig_history, test_rbig, epoch_rbig, 'DNN', 'Reduced Bigram')"
   ]
  },
  {
   "cell_type": "code",
   "execution_count": 33,
   "metadata": {},
   "outputs": [
    {
     "name": "stdout",
     "output_type": "stream",
     "text": [
      "DNN Reduced TFIDF Evaluation: \n",
      "Accuracy:        0.9161860822760477\n",
      "ROC AUC Score:   0.9151592317495554\n",
      "F1 Score:        0.9105090311986863\n",
      "Precision:       0.9486740804106074\n",
      "Recall:          0.8752959747434885\n"
     ]
    },
    {
     "data": {
      "image/png": "[encoded data removed]",
      "text/plain": [
       "<Figure size 432x288 with 1 Axes>"
      ]
     },
     "metadata": {
      "needs_background": "light"
     },
     "output_type": "display_data"
    },
    {
     "data": {
      "image/png": "[encoded data removed]",
      "text/plain": [
       "<Figure size 432x288 with 1 Axes>"
      ]
     },
     "metadata": {
      "needs_background": "light"
     },
     "output_type": "display_data"
    }
   ],
   "source": [
    "evaluate(dnn_rtfidf, dnn_rtfidf_history, test_rtfidf, epoch_rtfidf, 'DNN', 'Reduced TFIDF')"
   ]
  },
  {
   "cell_type": "code",
   "execution_count": 34,
   "metadata": {},
   "outputs": [
    {
     "name": "stdout",
     "output_type": "stream",
     "text": [
      "DNN Word2Vec Evaluation: \n",
      "Accuracy:        0.49211841599384853\n",
      "ROC AUC Score:   0.48677654069571374\n",
      "F1 Score:        0.34894036471168066\n",
      "Precision:       0.4645669291338583\n",
      "Recall:          0.27940015785319655\n"
     ]
    },
    {
     "data": {
      "image/png": "[encoded data removed]",
      "text/plain": [
       "<Figure size 432x288 with 1 Axes>"
      ]
     },
     "metadata": {
      "needs_background": "light"
     },
     "output_type": "display_data"
    },
    {
     "data": {
      "image/png": "[encoded data removed]",
      "text/plain": [
       "<Figure size 432x288 with 1 Axes>"
      ]
     },
     "metadata": {
      "needs_background": "light"
     },
     "output_type": "display_data"
    }
   ],
   "source": [
    "evaluate(dnn_vec, dnn_vec_history, test_vec, epoch_vec, 'DNN', 'Word2Vec')"
   ]
  },
  {
   "cell_type": "markdown",
   "metadata": {},
   "source": [
    "# Training and Evaluating Convolutional Neural Networks"
   ]
  },
  {
   "cell_type": "markdown",
   "metadata": {},
   "source": [
    "### CNN Reduced Unigram"
   ]
  },
  {
   "cell_type": "markdown",
   "metadata": {},
   "source": [
    "### CNN Reduced Bigram"
   ]
  },
  {
   "cell_type": "markdown",
   "metadata": {},
   "source": [
    "### CNN Reduced TFIDF"
   ]
  },
  {
   "cell_type": "markdown",
   "metadata": {},
   "source": [
    "### CNN Unigram"
   ]
  },
  {
   "cell_type": "markdown",
   "metadata": {},
   "source": [
    "### CNN Bigram"
   ]
  },
  {
   "cell_type": "markdown",
   "metadata": {},
   "source": [
    "### CNN TFIDF"
   ]
  },
  {
   "cell_type": "markdown",
   "metadata": {},
   "source": [
    "# Training and Evaluating Recurrent Neural Networks"
   ]
  },
  {
   "cell_type": "markdown",
   "metadata": {},
   "source": [
    "### RNN Reduced Unigram"
   ]
  },
  {
   "cell_type": "markdown",
   "metadata": {},
   "source": [
    "### RNN Reduced Bigram"
   ]
  },
  {
   "cell_type": "markdown",
   "metadata": {},
   "source": [
    "### RNN Reduced TFIDF"
   ]
  },
  {
   "cell_type": "markdown",
   "metadata": {},
   "source": [
    "### RNN Word2Vec"
   ]
  },
  {
   "cell_type": "markdown",
   "metadata": {},
   "source": [
    "### RNN Unigram"
   ]
  },
  {
   "cell_type": "markdown",
   "metadata": {},
   "source": [
    "### RNN Bigram"
   ]
  },
  {
   "cell_type": "markdown",
   "metadata": {},
   "source": [
    "### RNN TFIDF"
   ]
  }
 ],
 "metadata": {
  "kernelspec": {
   "display_name": "Python 3",
   "language": "python",
   "name": "python3"
  },
  "language_info": {
   "codemirror_mode": {
    "name": "ipython",
    "version": 3
   },
   "file_extension": ".py",
   "mimetype": "text/x-python",
   "name": "python",
   "nbconvert_exporter": "python",
   "pygments_lexer": "ipython3",
   "version": "3.6.0"
  }
 },
 "nbformat": 4,
 "nbformat_minor": 2
}
